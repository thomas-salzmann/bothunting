{
 "cells": [
  {
   "cell_type": "code",
   "execution_count": 42,
   "metadata": {},
   "outputs": [],
   "source": [
    "import pathlib\n",
    "\n",
    "import pandas as pd\n",
    "\n",
    "from bothunting import definitions"
   ]
  },
  {
   "cell_type": "markdown",
   "metadata": {},
   "source": [
    "# Auxiliary functions"
   ]
  },
  {
   "cell_type": "code",
   "execution_count": 43,
   "metadata": {},
   "outputs": [],
   "source": [
    "def show_head(df: pd.DataFrame):\n",
    "    print(df.head())\n",
    "    \n",
    "def show_tail(df: pd.DataFrame):\n",
    "    print(df.tail())\n",
    "    \n",
    "def get_header(df: pd.DataFrame):\n",
    "    return list(df.columns)\n",
    "    \n",
    "def show_header(df: pd.DataFrame):\n",
    "    print(get_header(df))\n",
    "    \n",
    "def print_sep():\n",
    "    print(40*\"-\")"
   ]
  },
  {
   "cell_type": "markdown",
   "metadata": {},
   "source": [
    "# Import feature data"
   ]
  },
  {
   "cell_type": "code",
   "execution_count": 44,
   "metadata": {},
   "outputs": [
    {
     "name": "stdout",
     "output_type": "stream",
     "text": [
      "C:\\Users\\akasn\\PycharmProjects\\bothunting\n"
     ]
    }
   ],
   "source": [
    "prj_root = definitions.get_prj_root()\n",
    "print(prj_root)"
   ]
  },
  {
   "cell_type": "code",
   "execution_count": 45,
   "metadata": {},
   "outputs": [],
   "source": [
    "path_features = prj_root / \"bothunting\" / \"datasets\" / \"expanded_dataset\"  / \"complete_data.csv\"\n",
    "df = pd.read_csv(path_features)"
   ]
  },
  {
   "cell_type": "code",
   "execution_count": 46,
   "metadata": {},
   "outputs": [
    {
     "name": "stdout",
     "output_type": "stream",
     "text": [
      "           id               name      screen_name  statuses_count  \\\n",
      "0  1502026416    TASUKU HAYAKAWA         0918Bask            2177   \n",
      "1  2492782375              ro_or         1120Roll            2660   \n",
      "2   293212315           bearclaw        14KBBrown            1254   \n",
      "3   191839658  pocahontas farida      wadespeters          202968   \n",
      "4  3020965143           Ms Kathy  191a5bd05da04dc              82   \n",
      "\n",
      "   followers_count  friends_count  favourites_count  listed_count  \\\n",
      "0              208            332               265             1   \n",
      "1              330            485              3972             5   \n",
      "2              166            177              1185             0   \n",
      "3             2248            981             60304           101   \n",
      "4               21             79                 5             0   \n",
      "\n",
      "                      url lang  ...   test_set_2 is_protected  \\\n",
      "0                     NaN   ja  ...          0.0         True   \n",
      "1                     NaN   ja  ...          0.0        False   \n",
      "2                     NaN   en  ...          0.0          NaN   \n",
      "3  http://t.co/rGV0HIJGsu   en  ...          0.0         True   \n",
      "4                     NaN   en  ...          0.0        False   \n",
      "\n",
      "   time_of_existence  average_daily_tweets  inactive_days has_default_image  \\\n",
      "0             2603.0                   NaN            NaN             False   \n",
      "1             2267.0              1.329661         1761.0             False   \n",
      "2                NaN                   NaN            NaN               NaN   \n",
      "3             3601.0                   NaN            NaN             False   \n",
      "4             1998.0              0.102000         1925.0             False   \n",
      "\n",
      "  bio_is_empty  friends_followers_ratio is_verified result  \n",
      "0        False                 1.036735       False      0  \n",
      "1        False                 1.588235       False      0  \n",
      "2          NaN                      NaN         NaN      0  \n",
      "3        False                 0.471079       False      0  \n",
      "4        False                 5.846154       False      0  \n",
      "\n",
      "[5 rows x 51 columns]\n",
      "----------------------------------------\n",
      "               id               name      screen_name  statuses_count  \\\n",
      "11012  2396095423   Aldridge Biz Opp   AldridgeBizOpp             106   \n",
      "11013  2396099064    DL Business Opp    DLBusinessOpp             173   \n",
      "11014  2429375022  LF Career Options  LFCareerOptions             137   \n",
      "11015  2429405521          Rick Chou      RickChou_TD             170   \n",
      "11016  2438666143   CK Small Biz Opp    CKSmallBizOpp              65   \n",
      "\n",
      "       followers_count  friends_count  favourites_count  listed_count  url  \\\n",
      "11012                4             23                 0             0  NaN   \n",
      "11013                2             20                 0             0  NaN   \n",
      "11014               29            124                 0             0  NaN   \n",
      "11015              115            353                38             2  NaN   \n",
      "11016              135            998                 0             0  NaN   \n",
      "\n",
      "      lang  ...   test_set_2 is_protected  time_of_existence  \\\n",
      "11012   en  ...          NaN        False             2323.0   \n",
      "11013   en  ...          NaN        False             2323.0   \n",
      "11014   en  ...          NaN        False             2304.0   \n",
      "11015   en  ...          NaN        False             2304.0   \n",
      "11016   en  ...          NaN        False             2298.0   \n",
      "\n",
      "       average_daily_tweets  inactive_days has_default_image bio_is_empty  \\\n",
      "11012              0.316265         2196.0             False        False   \n",
      "11013              1.085198         1949.0             False        False   \n",
      "11014              0.564614         2080.0             False        False   \n",
      "11015              0.724631         1698.0             False        False   \n",
      "11016              0.058696         2274.0             False        False   \n",
      "\n",
      "       friends_followers_ratio is_verified result  \n",
      "11012                 2.625000       False      2  \n",
      "11013                 3.885714       False      2  \n",
      "11014                 2.452381       False      2  \n",
      "11015                 0.897078       False      2  \n",
      "11016                 5.161850       False      2  \n",
      "\n",
      "[5 rows x 51 columns]\n",
      "11017\n"
     ]
    }
   ],
   "source": [
    "show_head(df)\n",
    "print_sep()\n",
    "show_tail(df)\n",
    "\n",
    "print(len(df))"
   ]
  },
  {
   "cell_type": "markdown",
   "metadata": {},
   "source": [
    "# Filter dataset"
   ]
  },
  {
   "cell_type": "code",
   "execution_count": 47,
   "metadata": {},
   "outputs": [
    {
     "name": "stdout",
     "output_type": "stream",
     "text": [
      "           id               name      screen_name  statuses_count  \\\n",
      "0  1502026416    TASUKU HAYAKAWA         0918Bask            2177   \n",
      "1  2492782375              ro_or         1120Roll            2660   \n",
      "2   293212315           bearclaw        14KBBrown            1254   \n",
      "3   191839658  pocahontas farida      wadespeters          202968   \n",
      "4  3020965143           Ms Kathy  191a5bd05da04dc              82   \n",
      "\n",
      "   followers_count  friends_count  favourites_count  listed_count  \\\n",
      "0              208            332               265             1   \n",
      "1              330            485              3972             5   \n",
      "2              166            177              1185             0   \n",
      "3             2248            981             60304           101   \n",
      "4               21             79                 5             0   \n",
      "\n",
      "                      url lang  ...   test_set_2 is_protected  \\\n",
      "0                     NaN   ja  ...          0.0         True   \n",
      "1                     NaN   ja  ...          0.0        False   \n",
      "2                     NaN   en  ...          0.0          NaN   \n",
      "3  http://t.co/rGV0HIJGsu   en  ...          0.0         True   \n",
      "4                     NaN   en  ...          0.0        False   \n",
      "\n",
      "   time_of_existence  average_daily_tweets  inactive_days has_default_image  \\\n",
      "0             2603.0                   NaN            NaN             False   \n",
      "1             2267.0              1.329661         1761.0             False   \n",
      "2                NaN                   NaN            NaN               NaN   \n",
      "3             3601.0                   NaN            NaN             False   \n",
      "4             1998.0              0.102000         1925.0             False   \n",
      "\n",
      "  bio_is_empty  friends_followers_ratio is_verified result  \n",
      "0        False                 1.036735       False      0  \n",
      "1        False                 1.588235       False      0  \n",
      "2          NaN                      NaN         NaN      0  \n",
      "3        False                 0.471079       False      0  \n",
      "4        False                 5.846154       False      0  \n",
      "\n",
      "[5 rows x 51 columns]\n",
      "----------------------------------------\n",
      "header=['id', 'name', 'screen_name', 'statuses_count', 'followers_count', 'friends_count', 'favourites_count', 'listed_count', 'url', 'lang', 'time_zone', 'location', 'default_profile', 'default_profile_image', 'geo_enabled', 'profile_image_url', 'profile_banner_url', 'profile_use_background_image', 'profile_background_image_url_https', 'profile_text_color', 'profile_image_url_https', 'profile_sidebar_border_color', 'profile_background_tile', 'profile_sidebar_fill_color', 'profile_background_image_url', 'profile_background_color', 'profile_link_color', 'utc_offset', 'is_translator', 'follow_request_sent', 'protected', 'verified', 'notifications', 'description', 'contributors_enabled', 'following', 'created_at', 'timestamp', 'crawled_at', 'updated', 'test_set_1', 'test_set_2', 'is_protected', 'time_of_existence', 'average_daily_tweets', 'inactive_days', 'has_default_image', 'bio_is_empty', 'friends_followers_ratio', 'is_verified', 'result']\n",
      "new_header=['id', 'is_protected', 'time_of_existence', 'average_daily_tweets', 'inactive_days', 'has_default_image', 'bio_is_empty', 'friends_followers_ratio', 'is_verified', 'result']\n",
      "----------------------------------------\n",
      "           id is_protected  time_of_existence  average_daily_tweets  \\\n",
      "0  1502026416         True             2603.0                   NaN   \n",
      "1  2492782375        False             2267.0              1.329661   \n",
      "2   293212315          NaN                NaN                   NaN   \n",
      "3   191839658         True             3601.0                   NaN   \n",
      "4  3020965143        False             1998.0              0.102000   \n",
      "\n",
      "   inactive_days has_default_image bio_is_empty  friends_followers_ratio  \\\n",
      "0            NaN             False        False                 1.036735   \n",
      "1         1761.0             False        False                 1.588235   \n",
      "2            NaN               NaN          NaN                      NaN   \n",
      "3            NaN             False        False                 0.471079   \n",
      "4         1925.0             False        False                 5.846154   \n",
      "\n",
      "  is_verified  result  \n",
      "0       False       0  \n",
      "1       False       0  \n",
      "2         NaN       0  \n",
      "3       False       0  \n",
      "4       False       0  \n"
     ]
    }
   ],
   "source": [
    "def filter_columns(df: pd.DataFrame):\n",
    "    df = df.copy()\n",
    "    header = get_header(df)\n",
    "    idx = header.index(\"is_protected\")\n",
    "    new_header = [\"id\"] + header[idx:]\n",
    "    print_sep()\n",
    "    print(f\"header={header}\")\n",
    "    print(f\"new_header={new_header}\")\n",
    "    return df[new_header]\n",
    "    \n",
    "show_head(df)\n",
    "df = filter_columns(df)\n",
    "print_sep()\n",
    "show_head(df)"
   ]
  },
  {
   "cell_type": "code",
   "execution_count": 48,
   "metadata": {},
   "outputs": [],
   "source": [
    "def filter_removed_accounts(df: pd.DataFrame):\n",
    "    df = df.copy()\n",
    "    return df[~pd.isnull(df[\"time_of_existence\"])]"
   ]
  },
  {
   "cell_type": "code",
   "execution_count": 49,
   "metadata": {},
   "outputs": [
    {
     "name": "stdout",
     "output_type": "stream",
     "text": [
      "8613\n"
     ]
    }
   ],
   "source": [
    "df = filter_removed_accounts(df)\n",
    "print(len(df))"
   ]
  },
  {
   "cell_type": "code",
   "execution_count": 50,
   "metadata": {},
   "outputs": [
    {
     "name": "stdout",
     "output_type": "stream",
     "text": [
      "8089\n"
     ]
    }
   ],
   "source": [
    "df = df.dropna()\n",
    "print(len(df))"
   ]
  },
  {
   "cell_type": "markdown",
   "metadata": {},
   "source": [
    "# Build machine learning models"
   ]
  },
  {
   "cell_type": "code",
   "execution_count": 51,
   "metadata": {},
   "outputs": [],
   "source": [
    "from sklearn.model_selection import train_test_split\n",
    "from sklearn.preprocessing import StandardScaler\n",
    "\n",
    "from sklearn.neural_network import MLPClassifier\n",
    "from sklearn.neighbors import KNeighborsClassifier\n",
    "from sklearn.svm import SVC\n",
    "from sklearn.gaussian_process import GaussianProcessClassifier\n",
    "from sklearn.gaussian_process.kernels import RBF\n",
    "from sklearn.tree import DecisionTreeClassifier\n",
    "from sklearn.ensemble import RandomForestClassifier, AdaBoostClassifier\n",
    "from sklearn.naive_bayes import GaussianNB\n",
    "from sklearn.discriminant_analysis import QuadraticDiscriminantAnalysis\n",
    "\n",
    "from sklearn import metrics"
   ]
  },
  {
   "cell_type": "code",
   "execution_count": 52,
   "metadata": {},
   "outputs": [],
   "source": [
    "classifiers = {\n",
    "    \"MPLClassifier\": MLPClassifier,\n",
    "    \"KNeighborsClassifier\": KNeighborsClassifier,\n",
    "    \"SVC\": SVC,\n",
    "    #\"GaussianProcessClassifier\": GaussianProcessClassifier,\n",
    "    # \"RBF\": RBF,\n",
    "    \"DecisionTreeClassifier\": DecisionTreeClassifier,\n",
    "    \"RandomForestClassifier\": RandomForestClassifier,\n",
    "    \"AdaBoostClassifier\": AdaBoostClassifier,\n",
    "    \"GaussianNB\": GaussianNB,\n",
    "    \"QuadraticDiscriminantAnalysis\": QuadraticDiscriminantAnalysis\n",
    "}"
   ]
  },
  {
   "cell_type": "code",
   "execution_count": 53,
   "metadata": {},
   "outputs": [
    {
     "name": "stdout",
     "output_type": "stream",
     "text": [
      "Training and testing classifier MPLClassifier\n",
      "Training and testing classifier KNeighborsClassifier\n",
      "Training and testing classifier SVC\n",
      "Training and testing classifier DecisionTreeClassifier\n",
      "Training and testing classifier RandomForestClassifier\n",
      "Training and testing classifier AdaBoostClassifier\n",
      "Training and testing classifier GaussianNB\n",
      "Training and testing classifier QuadraticDiscriminantAnalysis\n",
      "Classifier: MPLClassifier\n",
      "Confusion matrix: [[ 531   25   50]\n",
      " [  26  318    2]\n",
      " [  63    6 1002]]\n",
      "Precision: 0.9145426546027866\n",
      "Recall: 0.9149777558082056\n",
      "F1 score: 0.9146911929826721\n",
      "----------------------------------------\n",
      "Classifier: KNeighborsClassifier\n",
      "Confusion matrix: [[ 549   22   40]\n",
      " [  26  325    1]\n",
      " [  45    2 1013]]\n",
      "Precision: 0.9325669275414742\n",
      "Recall: 0.9327731092436975\n",
      "F1 score: 0.9326484535175324\n",
      "----------------------------------------\n",
      "Classifier: SVC\n",
      "Confusion matrix: [[544  32 110]\n",
      " [ 32 313   6]\n",
      " [ 44   4 938]]\n",
      "Precision: 0.8925200133312472\n",
      "Recall: 0.8872960949085517\n",
      "F1 score: 0.8887201204236311\n",
      "----------------------------------------\n",
      "Classifier: DecisionTreeClassifier\n",
      "Confusion matrix: [[ 517   33   36]\n",
      " [  35  314    4]\n",
      " [  68    2 1014]]\n",
      "Precision: 0.9112089880123675\n",
      "Recall: 0.912011863568957\n",
      "F1 score: 0.911299076402523\n",
      "----------------------------------------\n",
      "Classifier: RandomForestClassifier\n",
      "Confusion matrix: [[ 593   28   45]\n",
      " [  12  320    0]\n",
      " [  15    1 1009]]\n",
      "Precision: 0.9520390021175914\n",
      "Recall: 0.9500741473059812\n",
      "F1 score: 0.950494957533688\n",
      "----------------------------------------\n",
      "Classifier: AdaBoostClassifier\n",
      "Confusion matrix: [[514  55  78]\n",
      " [ 25 291   0]\n",
      " [ 81   3 976]]\n",
      "Precision: 0.8820637390230848\n",
      "Recall: 0.8803756796836382\n",
      "F1 score: 0.8807301355059899\n",
      "----------------------------------------\n",
      "Classifier: GaussianNB\n",
      "Confusion matrix: [[  14    0    1]\n",
      " [ 107  280    8]\n",
      " [ 499   69 1045]]\n",
      "Precision: 0.745874790406427\n",
      "Recall: 0.661888284725655\n",
      "F1 score: 0.5516539834717972\n",
      "----------------------------------------\n",
      "Classifier: QuadraticDiscriminantAnalysis\n",
      "Confusion matrix: [[ 620  349 1054]\n",
      " [   0    0    0]\n",
      " [   0    0    0]]\n",
      "Precision: 0.093927251340186\n",
      "Recall: 0.3064755313890262\n",
      "F1 score: 0.14378723379583525\n",
      "----------------------------------------\n"
     ]
    },
    {
     "name": "stderr",
     "output_type": "stream",
     "text": [
      "D:\\Anaconda\\lib\\site-packages\\sklearn\\discriminant_analysis.py:682: UserWarning: Variables are collinear\n",
      "  warnings.warn(\"Variables are collinear\")\n",
      "D:\\Anaconda\\lib\\site-packages\\sklearn\\discriminant_analysis.py:706: RuntimeWarning: divide by zero encountered in power\n",
      "  X2 = np.dot(Xm, R * (S ** (-0.5)))\n",
      "D:\\Anaconda\\lib\\site-packages\\sklearn\\discriminant_analysis.py:706: RuntimeWarning: invalid value encountered in multiply\n",
      "  X2 = np.dot(Xm, R * (S ** (-0.5)))\n",
      "D:\\Anaconda\\lib\\site-packages\\sklearn\\discriminant_analysis.py:709: RuntimeWarning: divide by zero encountered in log\n",
      "  u = np.asarray([np.sum(np.log(s)) for s in self.scalings_])\n",
      "D:\\Anaconda\\lib\\site-packages\\sklearn\\metrics\\classification.py:1135: UndefinedMetricWarning: F-score is ill-defined and being set to 0.0 in labels with no predicted samples.\n",
      "  'precision', 'predicted', average, warn_for)\n",
      "D:\\Anaconda\\lib\\site-packages\\sklearn\\metrics\\classification.py:1135: UndefinedMetricWarning: Precision is ill-defined and being set to 0.0 in labels with no predicted samples.\n",
      "  'precision', 'predicted', average, warn_for)\n"
     ]
    }
   ],
   "source": [
    "X = df\n",
    "X_header = get_header(X)[1:-1]\n",
    "account_id, X, y = df[\"id\"], df[X_header], df[\"result\"]\n",
    "X = StandardScaler().fit_transform(X)\n",
    "X_train, X_test, y_train, y_test = train_test_split(X, y, test_size=.25, random_state=42)\n",
    "\n",
    "confusion_matrices = {}\n",
    "precision = {}\n",
    "recall = {}\n",
    "f1_score = {}\n",
    "\n",
    "for clf_name in classifiers:\n",
    "    print(f\"Training and testing classifier {clf_name}\")\n",
    "    clf = classifiers[clf_name]()\n",
    "    clf.fit(X_train, y_train)\n",
    "    y_pred = clf.predict(X_test)\n",
    "    confusion_matrices[clf_name] = metrics.confusion_matrix(y_pred, y_test)\n",
    "    f1_score[clf_name] = metrics.f1_score(y_test, y_pred, average=\"weighted\")\n",
    "    precision[clf_name] = metrics.precision_score(y_test, y_pred, average=\"weighted\")\n",
    "    recall[clf_name] = metrics.recall_score(y_test, y_pred, average=\"weighted\")\n",
    "\n",
    "for clf_name in classifiers:\n",
    "    print(f\"Classifier: {clf_name}\")\n",
    "    print(f\"Confusion matrix: {confusion_matrices[clf_name]}\")\n",
    "    print(f\"Precision: {precision[clf_name]}\")\n",
    "    print(f\"Recall: {recall[clf_name]}\")\n",
    "    print(f\"F1 score: {f1_score[clf_name]}\")\n",
    "    print_sep()"
   ]
  },
  {
   "cell_type": "code",
   "execution_count": 54,
   "metadata": {},
   "outputs": [
    {
     "name": "stdout",
     "output_type": "stream",
     "text": [
      "[0.9146911929826721, 0.9326484535175324, 0.8887201204236311, 0.911299076402523, 0.950494957533688, 0.8807301355059899, 0.5516539834717972, 0.14378723379583525]\n",
      "[0.9149777558082056, 0.9327731092436975, 0.8872960949085517, 0.912011863568957, 0.9500741473059812, 0.8803756796836382, 0.661888284725655, 0.3064755313890262]\n",
      "[0.9145426546027866, 0.9325669275414742, 0.8925200133312472, 0.9112089880123675, 0.9520390021175914, 0.8820637390230848, 0.745874790406427, 0.093927251340186]\n"
     ]
    }
   ],
   "source": [
    "f1_scores = []\n",
    "recall_scores = []\n",
    "precision_scores = []\n",
    "\n",
    "for clf_name in classifiers:\n",
    "    f1_scores.append(f1_score[clf_name])\n",
    "    recall_scores.append(recall[clf_name])\n",
    "    precision_scores.append(precision[clf_name])\n",
    "print(f1_scores)\n",
    "print(recall_scores)\n",
    "print(precision_scores)"
   ]
  },
  {
   "cell_type": "code",
   "execution_count": 55,
   "metadata": {},
   "outputs": [],
   "source": [
    "import matplotlib.pyplot as plt\n",
    "import numpy as np"
   ]
  },
  {
   "cell_type": "code",
   "execution_count": 56,
   "metadata": {},
   "outputs": [
    {
     "data": {
      "image/png": "[encoded data removed]",
      "text/plain": [
       "<Figure size 432x288 with 1 Axes>"
      ]
     },
     "metadata": {
      "needs_background": "light"
     },
     "output_type": "display_data"
    }
   ],
   "source": [
    "plot = plt.subplot(111)\n",
    "plot.bar(np.arange(len(classifiers))-0.2, f1_scores, width = 0.2, color = \"r\", align = \"center\", label = \"F1 Score\")\n",
    "plot.bar(np.arange(len(classifiers)), recall_scores, width = 0.2, color = \"b\", align = \"center\", label = \"Recall Score\")\n",
    "plot.bar(np.arange(len(classifiers))+0.2, precision_scores, width = 0.2, color = \"g\", align = \"center\", label = \"Precision Score\")\n",
    "plot.set_xticklabels(classifiers)\n",
    "plot.set_ylabel(\"Scores\")\n",
    "plot.set_xlabel(\"Classifier\")\n",
    "plot.legend(loc = \"upper right\")\n",
    "\n",
    "plt.show()"
   ]
  },
  {
   "cell_type": "code",
   "execution_count": 23,
   "metadata": {},
   "outputs": [
    {
     "ename": "ValueError",
     "evalue": "could not convert string to float: 'TASUKU HAYAKAWA'",
     "output_type": "error",
     "traceback": [
      "\u001b[1;31m---------------------------------------------------------------------------\u001b[0m",
      "\u001b[1;31mValueError\u001b[0m                                Traceback (most recent call last)",
      "\u001b[1;32m<ipython-input-23-3509163a30c6>\u001b[0m in \u001b[0;36m<module>\u001b[1;34m\u001b[0m\n\u001b[0;32m     16\u001b[0m \u001b[0mX_header\u001b[0m \u001b[1;33m=\u001b[0m \u001b[0mget_header\u001b[0m\u001b[1;33m(\u001b[0m\u001b[0mX\u001b[0m\u001b[1;33m)\u001b[0m\u001b[1;33m[\u001b[0m\u001b[1;36m1\u001b[0m\u001b[1;33m:\u001b[0m\u001b[1;33m-\u001b[0m\u001b[1;36m1\u001b[0m\u001b[1;33m]\u001b[0m\u001b[1;33m\u001b[0m\u001b[1;33m\u001b[0m\u001b[0m\n\u001b[0;32m     17\u001b[0m \u001b[0maccount_id\u001b[0m\u001b[1;33m,\u001b[0m \u001b[0mX\u001b[0m\u001b[1;33m,\u001b[0m \u001b[0my\u001b[0m \u001b[1;33m=\u001b[0m \u001b[0mdf\u001b[0m\u001b[1;33m[\u001b[0m\u001b[1;34m\"id\"\u001b[0m\u001b[1;33m]\u001b[0m\u001b[1;33m,\u001b[0m \u001b[0mdf\u001b[0m\u001b[1;33m[\u001b[0m\u001b[0mX_header\u001b[0m\u001b[1;33m]\u001b[0m\u001b[1;33m,\u001b[0m \u001b[0mdf\u001b[0m\u001b[1;33m[\u001b[0m\u001b[1;34m\"result\"\u001b[0m\u001b[1;33m]\u001b[0m\u001b[1;33m\u001b[0m\u001b[1;33m\u001b[0m\u001b[0m\n\u001b[1;32m---> 18\u001b[1;33m \u001b[0mX\u001b[0m \u001b[1;33m=\u001b[0m \u001b[0mStandardScaler\u001b[0m\u001b[1;33m(\u001b[0m\u001b[1;33m)\u001b[0m\u001b[1;33m.\u001b[0m\u001b[0mfit_transform\u001b[0m\u001b[1;33m(\u001b[0m\u001b[0mX\u001b[0m\u001b[1;33m)\u001b[0m\u001b[1;33m\u001b[0m\u001b[1;33m\u001b[0m\u001b[0m\n\u001b[0m\u001b[0;32m     19\u001b[0m \u001b[0mX_train\u001b[0m\u001b[1;33m,\u001b[0m \u001b[0mX_test\u001b[0m\u001b[1;33m,\u001b[0m \u001b[0my_train\u001b[0m\u001b[1;33m,\u001b[0m \u001b[0my_test\u001b[0m \u001b[1;33m=\u001b[0m \u001b[0mtrain_test_split\u001b[0m\u001b[1;33m(\u001b[0m\u001b[0mX\u001b[0m\u001b[1;33m,\u001b[0m \u001b[0my\u001b[0m\u001b[1;33m,\u001b[0m \u001b[0mtest_size\u001b[0m\u001b[1;33m=\u001b[0m\u001b[1;36m.25\u001b[0m\u001b[1;33m,\u001b[0m \u001b[0mrandom_state\u001b[0m\u001b[1;33m=\u001b[0m\u001b[1;36m4\u001b[0m\u001b[1;33m)\u001b[0m\u001b[1;33m\u001b[0m\u001b[1;33m\u001b[0m\u001b[0m\n\u001b[0;32m     20\u001b[0m \u001b[1;33m\u001b[0m\u001b[0m\n",
      "\u001b[1;32m~\\Documents\\temp\\lib\\site-packages\\sklearn\\base.py\u001b[0m in \u001b[0;36mfit_transform\u001b[1;34m(self, X, y, **fit_params)\u001b[0m\n\u001b[0;32m    569\u001b[0m         \u001b[1;32mif\u001b[0m \u001b[0my\u001b[0m \u001b[1;32mis\u001b[0m \u001b[1;32mNone\u001b[0m\u001b[1;33m:\u001b[0m\u001b[1;33m\u001b[0m\u001b[1;33m\u001b[0m\u001b[0m\n\u001b[0;32m    570\u001b[0m             \u001b[1;31m# fit method of arity 1 (unsupervised transformation)\u001b[0m\u001b[1;33m\u001b[0m\u001b[1;33m\u001b[0m\u001b[1;33m\u001b[0m\u001b[0m\n\u001b[1;32m--> 571\u001b[1;33m             \u001b[1;32mreturn\u001b[0m \u001b[0mself\u001b[0m\u001b[1;33m.\u001b[0m\u001b[0mfit\u001b[0m\u001b[1;33m(\u001b[0m\u001b[0mX\u001b[0m\u001b[1;33m,\u001b[0m \u001b[1;33m**\u001b[0m\u001b[0mfit_params\u001b[0m\u001b[1;33m)\u001b[0m\u001b[1;33m.\u001b[0m\u001b[0mtransform\u001b[0m\u001b[1;33m(\u001b[0m\u001b[0mX\u001b[0m\u001b[1;33m)\u001b[0m\u001b[1;33m\u001b[0m\u001b[1;33m\u001b[0m\u001b[0m\n\u001b[0m\u001b[0;32m    572\u001b[0m         \u001b[1;32melse\u001b[0m\u001b[1;33m:\u001b[0m\u001b[1;33m\u001b[0m\u001b[1;33m\u001b[0m\u001b[0m\n\u001b[0;32m    573\u001b[0m             \u001b[1;31m# fit method of arity 2 (supervised transformation)\u001b[0m\u001b[1;33m\u001b[0m\u001b[1;33m\u001b[0m\u001b[1;33m\u001b[0m\u001b[0m\n",
      "\u001b[1;32m~\\Documents\\temp\\lib\\site-packages\\sklearn\\preprocessing\\_data.py\u001b[0m in \u001b[0;36mfit\u001b[1;34m(self, X, y)\u001b[0m\n\u001b[0;32m    667\u001b[0m         \u001b[1;31m# Reset internal state before fitting\u001b[0m\u001b[1;33m\u001b[0m\u001b[1;33m\u001b[0m\u001b[1;33m\u001b[0m\u001b[0m\n\u001b[0;32m    668\u001b[0m         \u001b[0mself\u001b[0m\u001b[1;33m.\u001b[0m\u001b[0m_reset\u001b[0m\u001b[1;33m(\u001b[0m\u001b[1;33m)\u001b[0m\u001b[1;33m\u001b[0m\u001b[1;33m\u001b[0m\u001b[0m\n\u001b[1;32m--> 669\u001b[1;33m         \u001b[1;32mreturn\u001b[0m \u001b[0mself\u001b[0m\u001b[1;33m.\u001b[0m\u001b[0mpartial_fit\u001b[0m\u001b[1;33m(\u001b[0m\u001b[0mX\u001b[0m\u001b[1;33m,\u001b[0m \u001b[0my\u001b[0m\u001b[1;33m)\u001b[0m\u001b[1;33m\u001b[0m\u001b[1;33m\u001b[0m\u001b[0m\n\u001b[0m\u001b[0;32m    670\u001b[0m \u001b[1;33m\u001b[0m\u001b[0m\n\u001b[0;32m    671\u001b[0m     \u001b[1;32mdef\u001b[0m \u001b[0mpartial_fit\u001b[0m\u001b[1;33m(\u001b[0m\u001b[0mself\u001b[0m\u001b[1;33m,\u001b[0m \u001b[0mX\u001b[0m\u001b[1;33m,\u001b[0m \u001b[0my\u001b[0m\u001b[1;33m=\u001b[0m\u001b[1;32mNone\u001b[0m\u001b[1;33m)\u001b[0m\u001b[1;33m:\u001b[0m\u001b[1;33m\u001b[0m\u001b[1;33m\u001b[0m\u001b[0m\n",
      "\u001b[1;32m~\\Documents\\temp\\lib\\site-packages\\sklearn\\preprocessing\\_data.py\u001b[0m in \u001b[0;36mpartial_fit\u001b[1;34m(self, X, y)\u001b[0m\n\u001b[0;32m    698\u001b[0m         X = check_array(X, accept_sparse=('csr', 'csc'),\n\u001b[0;32m    699\u001b[0m                         \u001b[0mestimator\u001b[0m\u001b[1;33m=\u001b[0m\u001b[0mself\u001b[0m\u001b[1;33m,\u001b[0m \u001b[0mdtype\u001b[0m\u001b[1;33m=\u001b[0m\u001b[0mFLOAT_DTYPES\u001b[0m\u001b[1;33m,\u001b[0m\u001b[1;33m\u001b[0m\u001b[1;33m\u001b[0m\u001b[0m\n\u001b[1;32m--> 700\u001b[1;33m                         force_all_finite='allow-nan')\n\u001b[0m\u001b[0;32m    701\u001b[0m \u001b[1;33m\u001b[0m\u001b[0m\n\u001b[0;32m    702\u001b[0m         \u001b[1;31m# Even in the case of `with_mean=False`, we update the mean anyway\u001b[0m\u001b[1;33m\u001b[0m\u001b[1;33m\u001b[0m\u001b[1;33m\u001b[0m\u001b[0m\n",
      "\u001b[1;32m~\\Documents\\temp\\lib\\site-packages\\sklearn\\utils\\validation.py\u001b[0m in \u001b[0;36mcheck_array\u001b[1;34m(array, accept_sparse, accept_large_sparse, dtype, order, copy, force_all_finite, ensure_2d, allow_nd, ensure_min_samples, ensure_min_features, warn_on_dtype, estimator)\u001b[0m\n\u001b[0;32m    529\u001b[0m                     \u001b[0marray\u001b[0m \u001b[1;33m=\u001b[0m \u001b[0marray\u001b[0m\u001b[1;33m.\u001b[0m\u001b[0mastype\u001b[0m\u001b[1;33m(\u001b[0m\u001b[0mdtype\u001b[0m\u001b[1;33m,\u001b[0m \u001b[0mcasting\u001b[0m\u001b[1;33m=\u001b[0m\u001b[1;34m\"unsafe\"\u001b[0m\u001b[1;33m,\u001b[0m \u001b[0mcopy\u001b[0m\u001b[1;33m=\u001b[0m\u001b[1;32mFalse\u001b[0m\u001b[1;33m)\u001b[0m\u001b[1;33m\u001b[0m\u001b[1;33m\u001b[0m\u001b[0m\n\u001b[0;32m    530\u001b[0m                 \u001b[1;32melse\u001b[0m\u001b[1;33m:\u001b[0m\u001b[1;33m\u001b[0m\u001b[1;33m\u001b[0m\u001b[0m\n\u001b[1;32m--> 531\u001b[1;33m                     \u001b[0marray\u001b[0m \u001b[1;33m=\u001b[0m \u001b[0mnp\u001b[0m\u001b[1;33m.\u001b[0m\u001b[0masarray\u001b[0m\u001b[1;33m(\u001b[0m\u001b[0marray\u001b[0m\u001b[1;33m,\u001b[0m \u001b[0morder\u001b[0m\u001b[1;33m=\u001b[0m\u001b[0morder\u001b[0m\u001b[1;33m,\u001b[0m \u001b[0mdtype\u001b[0m\u001b[1;33m=\u001b[0m\u001b[0mdtype\u001b[0m\u001b[1;33m)\u001b[0m\u001b[1;33m\u001b[0m\u001b[1;33m\u001b[0m\u001b[0m\n\u001b[0m\u001b[0;32m    532\u001b[0m             \u001b[1;32mexcept\u001b[0m \u001b[0mComplexWarning\u001b[0m\u001b[1;33m:\u001b[0m\u001b[1;33m\u001b[0m\u001b[1;33m\u001b[0m\u001b[0m\n\u001b[0;32m    533\u001b[0m                 raise ValueError(\"Complex data not supported\\n\"\n",
      "\u001b[1;32m~\\Documents\\temp\\lib\\site-packages\\numpy\\core\\_asarray.py\u001b[0m in \u001b[0;36masarray\u001b[1;34m(a, dtype, order)\u001b[0m\n\u001b[0;32m     83\u001b[0m \u001b[1;33m\u001b[0m\u001b[0m\n\u001b[0;32m     84\u001b[0m     \"\"\"\n\u001b[1;32m---> 85\u001b[1;33m     \u001b[1;32mreturn\u001b[0m \u001b[0marray\u001b[0m\u001b[1;33m(\u001b[0m\u001b[0ma\u001b[0m\u001b[1;33m,\u001b[0m \u001b[0mdtype\u001b[0m\u001b[1;33m,\u001b[0m \u001b[0mcopy\u001b[0m\u001b[1;33m=\u001b[0m\u001b[1;32mFalse\u001b[0m\u001b[1;33m,\u001b[0m \u001b[0morder\u001b[0m\u001b[1;33m=\u001b[0m\u001b[0morder\u001b[0m\u001b[1;33m)\u001b[0m\u001b[1;33m\u001b[0m\u001b[1;33m\u001b[0m\u001b[0m\n\u001b[0m\u001b[0;32m     86\u001b[0m \u001b[1;33m\u001b[0m\u001b[0m\n\u001b[0;32m     87\u001b[0m \u001b[1;33m\u001b[0m\u001b[0m\n",
      "\u001b[1;31mValueError\u001b[0m: could not convert string to float: 'TASUKU HAYAKAWA'"
     ]
    }
   ],
   "source": [
    "#TEST2\n",
    "from sklearn.neighbors import KNeighborsClassifier\n",
    "from sklearn.metrics import classification_report\n",
    "from sklearn.model_selection import train_test_split\n",
    "from sklearn.metrics import roc_auc_score\n",
    "from sklearn.model_selection import GridSearchCV\n",
    "from sklearn.preprocessing import StandardScaler\n",
    "\n",
    "def get_header(df: pd.DataFrame):\n",
    "    return list(df.columns)\n",
    "\n",
    "#Create KNN Object.\n",
    "knn = KNeighborsClassifier()\n",
    "\n",
    "X = df\n",
    "X_header = get_header(X)[1:-1]\n",
    "account_id, X, y = df[\"id\"], df[X_header], df[\"result\"]\n",
    "X = StandardScaler().fit_transform(X)\n",
    "X_train, X_test, y_train, y_test = train_test_split(X, y, test_size=.25, random_state=4)\n",
    "\n",
    "#Training the model.\n",
    "knn.fit(X_train, y_train)\n",
    "\n",
    "#Predict test data set.\n",
    "y_pred = log_reg.predict(X_test)\n",
    "\n",
    "#Checking performance our model with classification report.\n",
    "print(classification_report(y_test, y_pred))\n",
    "\n",
    "#Checking performance our model with ROC Score.\n",
    "roc_auc_score(y_test, y_pred)\n",
    "\n",
    "#List Hyperparameters that we want to tune.\n",
    "leaf_size = list(range(1,50))\n",
    "n_neighbors = list(range(1,30))\n",
    "p=[1,2]\n",
    "\n",
    "#Convert to dictionary\n",
    "hyperparameters = dict(leaf_size=leaf_size, n_neighbors=n_neighbors, p=p)\n",
    "\n",
    "#Create new KNN object\n",
    "knn_2 = KNeighborsClassifier()\n",
    "\n",
    "#Use GridSearch\n",
    "clf = GridSearchCV(knn_2, hyperparameters, cv=10)\n",
    "\n",
    "#Fit the model\n",
    "best_model = clf.fit(x,y)\n",
    "\n",
    "#Print The value of best Hyperparameters\n",
    "print('Best leaf_size:', best_model.best_estimator_.get_params()['leaf_size'])\n",
    "print('Best p:', best_model.best_estimator_.get_params()['p'])\n",
    "print('Best n_neighbors:', best_model.best_estimator_.get_params()['n_neighbors'])\n",
    "\n",
    "y_pred = best_model.predict(X_test)\n",
    "\n",
    "print(classification_report(y_test, y_pred))\n",
    "\n",
    "roc_auc_score(y_test, y_pred)"
   ]
  },
  {
   "cell_type": "code",
   "execution_count": 13,
   "metadata": {},
   "outputs": [
    {
     "name": "stdout",
     "output_type": "stream",
     "text": [
      "C:\\Users\\A\\bothunting\n"
     ]
    },
    {
     "ename": "KeyError",
     "evalue": "0",
     "output_type": "error",
     "traceback": [
      "\u001b[1;31m---------------------------------------------------------------------------\u001b[0m",
      "\u001b[1;31mKeyError\u001b[0m                                  Traceback (most recent call last)",
      "\u001b[1;32m~\\Documents\\temp\\lib\\site-packages\\pandas\\core\\indexes\\base.py\u001b[0m in \u001b[0;36mget_loc\u001b[1;34m(self, key, method, tolerance)\u001b[0m\n\u001b[0;32m   2645\u001b[0m             \u001b[1;32mtry\u001b[0m\u001b[1;33m:\u001b[0m\u001b[1;33m\u001b[0m\u001b[1;33m\u001b[0m\u001b[0m\n\u001b[1;32m-> 2646\u001b[1;33m                 \u001b[1;32mreturn\u001b[0m \u001b[0mself\u001b[0m\u001b[1;33m.\u001b[0m\u001b[0m_engine\u001b[0m\u001b[1;33m.\u001b[0m\u001b[0mget_loc\u001b[0m\u001b[1;33m(\u001b[0m\u001b[0mkey\u001b[0m\u001b[1;33m)\u001b[0m\u001b[1;33m\u001b[0m\u001b[1;33m\u001b[0m\u001b[0m\n\u001b[0m\u001b[0;32m   2647\u001b[0m             \u001b[1;32mexcept\u001b[0m \u001b[0mKeyError\u001b[0m\u001b[1;33m:\u001b[0m\u001b[1;33m\u001b[0m\u001b[1;33m\u001b[0m\u001b[0m\n",
      "\u001b[1;32mpandas\\_libs\\index.pyx\u001b[0m in \u001b[0;36mpandas._libs.index.IndexEngine.get_loc\u001b[1;34m()\u001b[0m\n",
      "\u001b[1;32mpandas\\_libs\\index.pyx\u001b[0m in \u001b[0;36mpandas._libs.index.IndexEngine.get_loc\u001b[1;34m()\u001b[0m\n",
      "\u001b[1;32mpandas\\_libs\\hashtable_class_helper.pxi\u001b[0m in \u001b[0;36mpandas._libs.hashtable.PyObjectHashTable.get_item\u001b[1;34m()\u001b[0m\n",
      "\u001b[1;32mpandas\\_libs\\hashtable_class_helper.pxi\u001b[0m in \u001b[0;36mpandas._libs.hashtable.PyObjectHashTable.get_item\u001b[1;34m()\u001b[0m\n",
      "\u001b[1;31mKeyError\u001b[0m: 0",
      "\nDuring handling of the above exception, another exception occurred:\n",
      "\u001b[1;31mKeyError\u001b[0m                                  Traceback (most recent call last)",
      "\u001b[1;32m<ipython-input-13-32478256a46d>\u001b[0m in \u001b[0;36m<module>\u001b[1;34m\u001b[0m\n\u001b[0;32m     90\u001b[0m \u001b[0mpath_features\u001b[0m \u001b[1;33m=\u001b[0m \u001b[0mprj_root\u001b[0m \u001b[1;33m/\u001b[0m \u001b[1;34m\"bothunting\"\u001b[0m \u001b[1;33m/\u001b[0m \u001b[1;34m\"datasets\"\u001b[0m \u001b[1;33m/\u001b[0m \u001b[1;34m\"expanded_dataset\"\u001b[0m  \u001b[1;33m/\u001b[0m \u001b[1;34m\"complete_data.csv\"\u001b[0m\u001b[1;33m\u001b[0m\u001b[1;33m\u001b[0m\u001b[0m\n\u001b[0;32m     91\u001b[0m \u001b[0mdf\u001b[0m \u001b[1;33m=\u001b[0m \u001b[0mpd\u001b[0m\u001b[1;33m.\u001b[0m\u001b[0mread_csv\u001b[0m\u001b[1;33m(\u001b[0m\u001b[0mpath_features\u001b[0m\u001b[1;33m)\u001b[0m\u001b[1;33m\u001b[0m\u001b[1;33m\u001b[0m\u001b[0m\n\u001b[1;32m---> 92\u001b[1;33m \u001b[1;32mfor\u001b[0m \u001b[0mi\u001b[0m \u001b[1;32min\u001b[0m \u001b[0mrange\u001b[0m\u001b[1;33m(\u001b[0m\u001b[0mlen\u001b[0m\u001b[1;33m(\u001b[0m\u001b[0mdf\u001b[0m\u001b[1;33m[\u001b[0m\u001b[1;36m0\u001b[0m\u001b[1;33m]\u001b[0m\u001b[1;33m)\u001b[0m\u001b[1;33m-\u001b[0m\u001b[1;36m1\u001b[0m\u001b[1;33m)\u001b[0m\u001b[1;33m:\u001b[0m\u001b[1;33m\u001b[0m\u001b[1;33m\u001b[0m\u001b[0m\n\u001b[0m\u001b[0;32m     93\u001b[0m         \u001b[0mstr_column_to_float\u001b[0m\u001b[1;33m(\u001b[0m\u001b[0mdataset\u001b[0m\u001b[1;33m,\u001b[0m \u001b[0mi\u001b[0m\u001b[1;33m)\u001b[0m\u001b[1;33m\u001b[0m\u001b[1;33m\u001b[0m\u001b[0m\n\u001b[0;32m     94\u001b[0m \u001b[1;31m#convert class column to integers\u001b[0m\u001b[1;33m\u001b[0m\u001b[1;33m\u001b[0m\u001b[1;33m\u001b[0m\u001b[0m\n",
      "\u001b[1;32m~\\Documents\\temp\\lib\\site-packages\\pandas\\core\\frame.py\u001b[0m in \u001b[0;36m__getitem__\u001b[1;34m(self, key)\u001b[0m\n\u001b[0;32m   2798\u001b[0m             \u001b[1;32mif\u001b[0m \u001b[0mself\u001b[0m\u001b[1;33m.\u001b[0m\u001b[0mcolumns\u001b[0m\u001b[1;33m.\u001b[0m\u001b[0mnlevels\u001b[0m \u001b[1;33m>\u001b[0m \u001b[1;36m1\u001b[0m\u001b[1;33m:\u001b[0m\u001b[1;33m\u001b[0m\u001b[1;33m\u001b[0m\u001b[0m\n\u001b[0;32m   2799\u001b[0m                 \u001b[1;32mreturn\u001b[0m \u001b[0mself\u001b[0m\u001b[1;33m.\u001b[0m\u001b[0m_getitem_multilevel\u001b[0m\u001b[1;33m(\u001b[0m\u001b[0mkey\u001b[0m\u001b[1;33m)\u001b[0m\u001b[1;33m\u001b[0m\u001b[1;33m\u001b[0m\u001b[0m\n\u001b[1;32m-> 2800\u001b[1;33m             \u001b[0mindexer\u001b[0m \u001b[1;33m=\u001b[0m \u001b[0mself\u001b[0m\u001b[1;33m.\u001b[0m\u001b[0mcolumns\u001b[0m\u001b[1;33m.\u001b[0m\u001b[0mget_loc\u001b[0m\u001b[1;33m(\u001b[0m\u001b[0mkey\u001b[0m\u001b[1;33m)\u001b[0m\u001b[1;33m\u001b[0m\u001b[1;33m\u001b[0m\u001b[0m\n\u001b[0m\u001b[0;32m   2801\u001b[0m             \u001b[1;32mif\u001b[0m \u001b[0mis_integer\u001b[0m\u001b[1;33m(\u001b[0m\u001b[0mindexer\u001b[0m\u001b[1;33m)\u001b[0m\u001b[1;33m:\u001b[0m\u001b[1;33m\u001b[0m\u001b[1;33m\u001b[0m\u001b[0m\n\u001b[0;32m   2802\u001b[0m                 \u001b[0mindexer\u001b[0m \u001b[1;33m=\u001b[0m \u001b[1;33m[\u001b[0m\u001b[0mindexer\u001b[0m\u001b[1;33m]\u001b[0m\u001b[1;33m\u001b[0m\u001b[1;33m\u001b[0m\u001b[0m\n",
      "\u001b[1;32m~\\Documents\\temp\\lib\\site-packages\\pandas\\core\\indexes\\base.py\u001b[0m in \u001b[0;36mget_loc\u001b[1;34m(self, key, method, tolerance)\u001b[0m\n\u001b[0;32m   2646\u001b[0m                 \u001b[1;32mreturn\u001b[0m \u001b[0mself\u001b[0m\u001b[1;33m.\u001b[0m\u001b[0m_engine\u001b[0m\u001b[1;33m.\u001b[0m\u001b[0mget_loc\u001b[0m\u001b[1;33m(\u001b[0m\u001b[0mkey\u001b[0m\u001b[1;33m)\u001b[0m\u001b[1;33m\u001b[0m\u001b[1;33m\u001b[0m\u001b[0m\n\u001b[0;32m   2647\u001b[0m             \u001b[1;32mexcept\u001b[0m \u001b[0mKeyError\u001b[0m\u001b[1;33m:\u001b[0m\u001b[1;33m\u001b[0m\u001b[1;33m\u001b[0m\u001b[0m\n\u001b[1;32m-> 2648\u001b[1;33m                 \u001b[1;32mreturn\u001b[0m \u001b[0mself\u001b[0m\u001b[1;33m.\u001b[0m\u001b[0m_engine\u001b[0m\u001b[1;33m.\u001b[0m\u001b[0mget_loc\u001b[0m\u001b[1;33m(\u001b[0m\u001b[0mself\u001b[0m\u001b[1;33m.\u001b[0m\u001b[0m_maybe_cast_indexer\u001b[0m\u001b[1;33m(\u001b[0m\u001b[0mkey\u001b[0m\u001b[1;33m)\u001b[0m\u001b[1;33m)\u001b[0m\u001b[1;33m\u001b[0m\u001b[1;33m\u001b[0m\u001b[0m\n\u001b[0m\u001b[0;32m   2649\u001b[0m         \u001b[0mindexer\u001b[0m \u001b[1;33m=\u001b[0m \u001b[0mself\u001b[0m\u001b[1;33m.\u001b[0m\u001b[0mget_indexer\u001b[0m\u001b[1;33m(\u001b[0m\u001b[1;33m[\u001b[0m\u001b[0mkey\u001b[0m\u001b[1;33m]\u001b[0m\u001b[1;33m,\u001b[0m \u001b[0mmethod\u001b[0m\u001b[1;33m=\u001b[0m\u001b[0mmethod\u001b[0m\u001b[1;33m,\u001b[0m \u001b[0mtolerance\u001b[0m\u001b[1;33m=\u001b[0m\u001b[0mtolerance\u001b[0m\u001b[1;33m)\u001b[0m\u001b[1;33m\u001b[0m\u001b[1;33m\u001b[0m\u001b[0m\n\u001b[0;32m   2650\u001b[0m         \u001b[1;32mif\u001b[0m \u001b[0mindexer\u001b[0m\u001b[1;33m.\u001b[0m\u001b[0mndim\u001b[0m \u001b[1;33m>\u001b[0m \u001b[1;36m1\u001b[0m \u001b[1;32mor\u001b[0m \u001b[0mindexer\u001b[0m\u001b[1;33m.\u001b[0m\u001b[0msize\u001b[0m \u001b[1;33m>\u001b[0m \u001b[1;36m1\u001b[0m\u001b[1;33m:\u001b[0m\u001b[1;33m\u001b[0m\u001b[1;33m\u001b[0m\u001b[0m\n",
      "\u001b[1;32mpandas\\_libs\\index.pyx\u001b[0m in \u001b[0;36mpandas._libs.index.IndexEngine.get_loc\u001b[1;34m()\u001b[0m\n",
      "\u001b[1;32mpandas\\_libs\\index.pyx\u001b[0m in \u001b[0;36mpandas._libs.index.IndexEngine.get_loc\u001b[1;34m()\u001b[0m\n",
      "\u001b[1;32mpandas\\_libs\\hashtable_class_helper.pxi\u001b[0m in \u001b[0;36mpandas._libs.hashtable.PyObjectHashTable.get_item\u001b[1;34m()\u001b[0m\n",
      "\u001b[1;32mpandas\\_libs\\hashtable_class_helper.pxi\u001b[0m in \u001b[0;36mpandas._libs.hashtable.PyObjectHashTable.get_item\u001b[1;34m()\u001b[0m\n",
      "\u001b[1;31mKeyError\u001b[0m: 0"
     ]
    }
   ],
   "source": [
    "#TEST1\n",
    "\n",
    "#from sklearn.model_selection import RandomizedSearchCV\n",
    "#from sklearn.model_selection import GridSearchCV\n",
    "import pathlib\n",
    "import pandas as pd\n",
    "from math import sqrt\n",
    "from random import seed\n",
    "from random import randrange\n",
    "from bothunting import definitions\n",
    "\n",
    "# Split a dataset into k folds\n",
    "def cross_validation_split(df, n_folds):\n",
    "\tdataset_split = list()\n",
    "\tdataset_copy = list(df)\n",
    "\tfold_size = int(len(df) / n_folds)\n",
    "\tfor _ in range(n_folds):\n",
    "\t\tfold = list()\n",
    "\t\twhile len(fold) < fold_size:\n",
    "\t\t\tindex = randrange(len(dataset_copy))\n",
    "\t\t\tfold.append(dataset_copy.pop(index))\n",
    "\t\tdataset_split.append(fold)\n",
    "\treturn dataset_split\n",
    " \n",
    "# Calculate accuracy percentage\n",
    "def accuracy_metric(actual, predicted):\n",
    "\tcorrect = 0\n",
    "\tfor i in range(len(actual)):\n",
    "\t\tif actual[i] == predicted[i]:\n",
    "\t\t\tcorrect += 1\n",
    "\treturn correct / float(len(actual)) * 100.0\n",
    " \n",
    "# Evaluate an algorithm using a cross validation split\n",
    "def evaluate_algorithm(df, algorithm, n_folds, *args):\n",
    "\tfolds = cross_validation_split(df, n_folds)\n",
    "\tscores = list()\n",
    "\tfor fold in folds:\n",
    "\t\ttrain_set = list(folds)\n",
    "\t\ttrain_set.remove(fold)\n",
    "\t\ttrain_set = sum(train_set, [])\n",
    "\t\ttest_set = list()\n",
    "\t\tfor row in fold:\n",
    "\t\t\trow_copy = list(row)\n",
    "\t\t\ttest_set.append(row_copy)\n",
    "\t\t\trow_copy[-1] = None\n",
    "\t\tpredicted = algorithm(train_set, test_set, *args)\n",
    "\t\tactual = [row[-1] for row in fold]\n",
    "\t\taccuracy = accuracy_metric(actual, predicted)\n",
    "\t\tscores.append(accuracy)\n",
    "\treturn scores\n",
    " \n",
    "# Calculate the Euclidean distance between two vectors\n",
    "def euclidean_distance(row1, row2):\n",
    "\tdistance = 0.0\n",
    "\tfor i in range(len(row1)-1):\n",
    "\t\tdistance += (row1[i] - row2[i])**2\n",
    "\treturn sqrt(distance)\n",
    " \n",
    "# Locate the most similar neighbors\n",
    "def get_neighbors(train, test_row, num_neighbors):\n",
    "\tdistances = list()\n",
    "\tfor train_row in train:\n",
    "\t\tdist = euclidean_distance(test_row, train_row)\n",
    "\t\tdistances.append((train_row, dist))\n",
    "\tdistances.sort(key=lambda tup: tup[1])\n",
    "\tneighbors = list()\n",
    "\tfor i in range(num_neighbors):\n",
    "\t\tneighbors.append(distances[i][0])\n",
    "\treturn neighbors\n",
    " \n",
    "# Make a prediction with neighbors\n",
    "def predict_classification(train, test_row, num_neighbors):\n",
    "\tneighbors = get_neighbors(train, test_row, num_neighbors)\n",
    "\toutput_values = [row[-1] for row in neighbors]\n",
    "\tprediction = max(set(output_values), key=output_values.count)\n",
    "\treturn prediction\n",
    " \n",
    "# kNN Algorithm\n",
    "def k_nearest_neighbors(train, test, num_neighbors):\n",
    "\tpredictions = list()\n",
    "\tfor row in test:\n",
    "\t\toutput = predict_classification(train, row, num_neighbors)\n",
    "\t\tpredictions.append(output)\n",
    "\treturn(predictions)\n",
    "\n",
    "# Test the kNN on the dataset\n",
    "seed(1)\n",
    "prj_root = definitions.get_prj_root()\n",
    "print(prj_root)\n",
    "path_features = prj_root / \"bothunting\" / \"datasets\" / \"expanded_dataset\"  / \"complete_data.csv\"\n",
    "df = pd.read_csv(path_features)\n",
    "for i in range(len(df[0])-1):\n",
    "\tstr_column_to_float(dataset, i)\n",
    "#convert class column to integers\n",
    "str_column_to_int(df, len(df[0])-1)\n",
    "#evaluate algorithm\n",
    "n_folds = 5\n",
    "num_neighbors = 5\n",
    "scores = evaluate_algorithm(df, k_nearest_neighbors, n_folds, num_neighbors)\n",
    "print('Scores: %s' % scores)\n",
    "print('Mean Accuracy: %.3f%%' % (sum(scores)/float(len(scores))))"
   ]
  },
  {
   "cell_type": "code",
   "execution_count": null,
   "metadata": {},
   "outputs": [],
   "source": []
  }
 ],
 "metadata": {
  "kernelspec": {
   "display_name": "Python 3",
   "language": "python",
   "name": "python3"
  },
  "language_info": {
   "codemirror_mode": {
    "name": "ipython",
    "version": 3
   },
   "file_extension": ".py",
   "mimetype": "text/x-python",
   "name": "python",
   "nbconvert_exporter": "python",
   "pygments_lexer": "ipython3",
   "version": "3.7.6"
  }
 },
 "nbformat": 4,
 "nbformat_minor": 4
}
