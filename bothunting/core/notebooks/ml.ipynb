{
 "cells": [
  {
   "cell_type": "code",
   "execution_count": 10,
   "metadata": {},
   "outputs": [],
   "source": [
    "import pathlib\n",
    "\n",
    "import pandas as pd\n",
    "\n",
    "from bothunting import definitions"
   ]
  },
  {
   "cell_type": "markdown",
   "metadata": {},
   "source": [
    "# Auxiliary functions"
   ]
  },
  {
   "cell_type": "code",
   "execution_count": 14,
   "metadata": {},
   "outputs": [],
   "source": [
    "def show_head(df: pd.DataFrame):\n",
    "    print(df.head())\n",
    "    \n",
    "def show_tail(df: pd.DataFrame):\n",
    "    print(df.tail())\n",
    "    \n",
    "def get_header(df: pd.DataFrame):\n",
    "    return list(df.columns)\n",
    "    \n",
    "def show_header(df: pd.DataFrame):\n",
    "    print(get_header(df))\n",
    "    \n",
    "def print_sep():\n",
    "    print(40*\"-\")"
   ]
  },
  {
   "cell_type": "markdown",
   "metadata": {},
   "source": [
    "# Import feature data"
   ]
  },
  {
   "cell_type": "code",
   "execution_count": 7,
   "metadata": {},
   "outputs": [
    {
     "name": "stdout",
     "output_type": "stream",
     "text": [
      "C:\\Users\\salzi\\Documents\\work\\techlabs\\bot_hunting_techlabs\n"
     ]
    }
   ],
   "source": [
    "prj_root = definitions.get_prj_root()\n",
    "print(prj_root)"
   ]
  },
  {
   "cell_type": "code",
   "execution_count": 8,
   "metadata": {},
   "outputs": [],
   "source": [
    "path_features = prj_root / \"bothunting\" / \"datasets\" / \"expanded_dataset\"  / \"complete_data.csv\"\n",
    "df = pd.read_csv(path_features)"
   ]
  },
  {
   "cell_type": "code",
   "execution_count": 20,
   "metadata": {},
   "outputs": [
    {
     "name": "stdout",
     "output_type": "stream",
     "text": [
      "           id               name      screen_name  statuses_count  \\\n",
      "0  1502026416    TASUKU HAYAKAWA         0918Bask            2177   \n",
      "1  2492782375              ro_or         1120Roll            2660   \n",
      "2   293212315           bearclaw        14KBBrown            1254   \n",
      "3   191839658  pocahontas farida      wadespeters          202968   \n",
      "4  3020965143           Ms Kathy  191a5bd05da04dc              82   \n",
      "\n",
      "   followers_count  friends_count  favourites_count  listed_count  \\\n",
      "0              208            332               265             1   \n",
      "1              330            485              3972             5   \n",
      "2              166            177              1185             0   \n",
      "3             2248            981             60304           101   \n",
      "4               21             79                 5             0   \n",
      "\n",
      "                      url lang  ... test_set_2 is_protected  \\\n",
      "0                     NaN   ja  ...        0.0         True   \n",
      "1                     NaN   ja  ...        0.0        False   \n",
      "2                     NaN   en  ...        0.0          NaN   \n",
      "3  http://t.co/rGV0HIJGsu   en  ...        0.0         True   \n",
      "4                     NaN   en  ...        0.0        False   \n",
      "\n",
      "   time_of_existence  average_daily_tweets  inactive_days has_default_image  \\\n",
      "0             2603.0                   NaN            NaN             False   \n",
      "1             2267.0              1.329661         1761.0             False   \n",
      "2                NaN                   NaN            NaN               NaN   \n",
      "3             3601.0                   NaN            NaN             False   \n",
      "4             1998.0              0.102000         1925.0             False   \n",
      "\n",
      "  bio_is_empty  friends_followers_ratio is_verified result  \n",
      "0        False                 1.036735       False      0  \n",
      "1        False                 1.588235       False      0  \n",
      "2          NaN                      NaN         NaN      0  \n",
      "3        False                 0.471079       False      0  \n",
      "4        False                 5.846154       False      0  \n",
      "\n",
      "[5 rows x 51 columns]\n",
      "----------------------------------------\n",
      "               id               name      screen_name  statuses_count  \\\n",
      "11012  2396095423   Aldridge Biz Opp   AldridgeBizOpp             106   \n",
      "11013  2396099064    DL Business Opp    DLBusinessOpp             173   \n",
      "11014  2429375022  LF Career Options  LFCareerOptions             137   \n",
      "11015  2429405521          Rick Chou      RickChou_TD             170   \n",
      "11016  2438666143   CK Small Biz Opp    CKSmallBizOpp              65   \n",
      "\n",
      "       followers_count  friends_count  favourites_count  listed_count  url  \\\n",
      "11012                4             23                 0             0  NaN   \n",
      "11013                2             20                 0             0  NaN   \n",
      "11014               29            124                 0             0  NaN   \n",
      "11015              115            353                38             2  NaN   \n",
      "11016              135            998                 0             0  NaN   \n",
      "\n",
      "      lang  ... test_set_2 is_protected  time_of_existence  \\\n",
      "11012   en  ...        NaN        False             2323.0   \n",
      "11013   en  ...        NaN        False             2323.0   \n",
      "11014   en  ...        NaN        False             2304.0   \n",
      "11015   en  ...        NaN        False             2304.0   \n",
      "11016   en  ...        NaN        False             2298.0   \n",
      "\n",
      "       average_daily_tweets  inactive_days has_default_image bio_is_empty  \\\n",
      "11012              0.316265         2196.0             False        False   \n",
      "11013              1.085198         1949.0             False        False   \n",
      "11014              0.564614         2080.0             False        False   \n",
      "11015              0.724631         1698.0             False        False   \n",
      "11016              0.058696         2274.0             False        False   \n",
      "\n",
      "       friends_followers_ratio is_verified result  \n",
      "11012                 2.625000       False      2  \n",
      "11013                 3.885714       False      2  \n",
      "11014                 2.452381       False      2  \n",
      "11015                 0.897078       False      2  \n",
      "11016                 5.161850       False      2  \n",
      "\n",
      "[5 rows x 51 columns]\n",
      "11017\n"
     ]
    }
   ],
   "source": [
    "show_head(df)\n",
    "print_sep()\n",
    "show_tail(df)\n",
    "\n",
    "print(len(df))"
   ]
  },
  {
   "cell_type": "markdown",
   "metadata": {},
   "source": [
    "# Filter dataset"
   ]
  },
  {
   "cell_type": "code",
   "execution_count": 22,
   "metadata": {},
   "outputs": [
    {
     "name": "stdout",
     "output_type": "stream",
     "text": [
      "           id               name      screen_name  statuses_count  \\\n",
      "0  1502026416    TASUKU HAYAKAWA         0918Bask            2177   \n",
      "1  2492782375              ro_or         1120Roll            2660   \n",
      "2   293212315           bearclaw        14KBBrown            1254   \n",
      "3   191839658  pocahontas farida      wadespeters          202968   \n",
      "4  3020965143           Ms Kathy  191a5bd05da04dc              82   \n",
      "\n",
      "   followers_count  friends_count  favourites_count  listed_count  \\\n",
      "0              208            332               265             1   \n",
      "1              330            485              3972             5   \n",
      "2              166            177              1185             0   \n",
      "3             2248            981             60304           101   \n",
      "4               21             79                 5             0   \n",
      "\n",
      "                      url lang  ... test_set_2 is_protected  \\\n",
      "0                     NaN   ja  ...        0.0         True   \n",
      "1                     NaN   ja  ...        0.0        False   \n",
      "2                     NaN   en  ...        0.0          NaN   \n",
      "3  http://t.co/rGV0HIJGsu   en  ...        0.0         True   \n",
      "4                     NaN   en  ...        0.0        False   \n",
      "\n",
      "   time_of_existence  average_daily_tweets  inactive_days has_default_image  \\\n",
      "0             2603.0                   NaN            NaN             False   \n",
      "1             2267.0              1.329661         1761.0             False   \n",
      "2                NaN                   NaN            NaN               NaN   \n",
      "3             3601.0                   NaN            NaN             False   \n",
      "4             1998.0              0.102000         1925.0             False   \n",
      "\n",
      "  bio_is_empty  friends_followers_ratio is_verified result  \n",
      "0        False                 1.036735       False      0  \n",
      "1        False                 1.588235       False      0  \n",
      "2          NaN                      NaN         NaN      0  \n",
      "3        False                 0.471079       False      0  \n",
      "4        False                 5.846154       False      0  \n",
      "\n",
      "[5 rows x 51 columns]\n",
      "----------------------------------------\n",
      "header=['id', 'name', 'screen_name', 'statuses_count', 'followers_count', 'friends_count', 'favourites_count', 'listed_count', 'url', 'lang', 'time_zone', 'location', 'default_profile', 'default_profile_image', 'geo_enabled', 'profile_image_url', 'profile_banner_url', 'profile_use_background_image', 'profile_background_image_url_https', 'profile_text_color', 'profile_image_url_https', 'profile_sidebar_border_color', 'profile_background_tile', 'profile_sidebar_fill_color', 'profile_background_image_url', 'profile_background_color', 'profile_link_color', 'utc_offset', 'is_translator', 'follow_request_sent', 'protected', 'verified', 'notifications', 'description', 'contributors_enabled', 'following', 'created_at', 'timestamp', 'crawled_at', 'updated', 'test_set_1', 'test_set_2', 'is_protected', 'time_of_existence', 'average_daily_tweets', 'inactive_days', 'has_default_image', 'bio_is_empty', 'friends_followers_ratio', 'is_verified', 'result']\n",
      "new_header=['id', 'is_protected', 'time_of_existence', 'average_daily_tweets', 'inactive_days', 'has_default_image', 'bio_is_empty', 'friends_followers_ratio', 'is_verified', 'result']\n",
      "----------------------------------------\n",
      "           id is_protected  time_of_existence  average_daily_tweets  \\\n",
      "0  1502026416         True             2603.0                   NaN   \n",
      "1  2492782375        False             2267.0              1.329661   \n",
      "2   293212315          NaN                NaN                   NaN   \n",
      "3   191839658         True             3601.0                   NaN   \n",
      "4  3020965143        False             1998.0              0.102000   \n",
      "\n",
      "   inactive_days has_default_image bio_is_empty  friends_followers_ratio  \\\n",
      "0            NaN             False        False                 1.036735   \n",
      "1         1761.0             False        False                 1.588235   \n",
      "2            NaN               NaN          NaN                      NaN   \n",
      "3            NaN             False        False                 0.471079   \n",
      "4         1925.0             False        False                 5.846154   \n",
      "\n",
      "  is_verified  result  \n",
      "0       False       0  \n",
      "1       False       0  \n",
      "2         NaN       0  \n",
      "3       False       0  \n",
      "4       False       0  \n"
     ]
    }
   ],
   "source": [
    "def filter_columns(df: pd.DataFrame):\n",
    "    df = df.copy()\n",
    "    header = get_header(df)\n",
    "    idx = header.index(\"is_protected\")\n",
    "    new_header = [\"id\"] + header[idx:]\n",
    "    print_sep()\n",
    "    print(f\"header={header}\")\n",
    "    print(f\"new_header={new_header}\")\n",
    "    return df[new_header]\n",
    "    \n",
    "show_head(df)\n",
    "df = filter_columns(df)\n",
    "print_sep()\n",
    "show_head(df)"
   ]
  },
  {
   "cell_type": "code",
   "execution_count": 30,
   "metadata": {},
   "outputs": [],
   "source": [
    "def filter_removed_accounts(df: pd.DataFrame):\n",
    "    df = df.copy()\n",
    "    return df[~pd.isnull(df[\"time_of_existence\"])]"
   ]
  },
  {
   "cell_type": "code",
   "execution_count": 32,
   "metadata": {},
   "outputs": [
    {
     "name": "stdout",
     "output_type": "stream",
     "text": [
      "8613\n"
     ]
    }
   ],
   "source": [
    "df = filter_removed_accounts(df)\n",
    "print(len(df))"
   ]
  },
  {
   "cell_type": "code",
   "execution_count": null,
   "metadata": {},
   "outputs": [],
   "source": []
  }
 ],
 "metadata": {
  "kernelspec": {
   "display_name": "Python 3",
   "language": "python",
   "name": "python3"
  },
  "language_info": {
   "codemirror_mode": {
    "name": "ipython",
    "version": 3
   },
   "file_extension": ".py",
   "mimetype": "text/x-python",
   "name": "python",
   "nbconvert_exporter": "python",
   "pygments_lexer": "ipython3",
   "version": "3.7.7"
  }
 },
 "nbformat": 4,
 "nbformat_minor": 4
}
