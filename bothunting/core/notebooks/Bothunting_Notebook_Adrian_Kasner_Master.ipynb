{
 "cells": [
  {
   "cell_type": "code",
   "execution_count": null,
   "metadata": {},
   "outputs": [],
   "source": [
    "#Nötige Imports\n",
    "\n",
    "import tweepy \n",
    "import pandas as pd\n",
    "from requests_oauthlib import OAuth1Session\n",
    "import time, datetime\n",
    "import math\n",
    "import nltk"
   ]
  },
  {
   "cell_type": "code",
   "execution_count": null,
   "metadata": {},
   "outputs": [],
   "source": [
    "#Developer Keys\n",
    "\n",
    "consumer_key= 'xxxxxxxxxxxxxxxxxxxxxxxx'\n",
    "consumer_secret= 'xxxxxxxxxxxxxxxxxxxxxxxxxxx'\n",
    "access_token= 'xxxxxxxxxxxxxxxxxxxxxxxxxxxxxxxx'\n",
    "access_token_secret= 'xxxxxxxxxxxxxxxxxxxxxxxxxxxx'"
   ]
  },
  {
   "cell_type": "code",
   "execution_count": null,
   "metadata": {},
   "outputs": [],
   "source": [
    "#Login in die Twitter API\n",
    "\n",
    "auth = tweepy.OAuthHandler(consumer_key, consumer_secret)\n",
    "auth.set_access_token(access_token, access_token_secret)\n",
    "api = tweepy.API(auth, wait_on_rate_limit=True)"
   ]
  },
  {
   "cell_type": "code",
   "execution_count": null,
   "metadata": {},
   "outputs": [],
   "source": [
    "#Dataset zum ausprobieren der Methoden laden (optional)\n",
    "\n",
    "social_bots = pd.read_csv (r\"Speicherort eures Datasets\" )"
   ]
  },
  {
   "cell_type": "code",
   "execution_count": null,
   "metadata": {},
   "outputs": [],
   "source": [
    "#Prüft ob User sein Profilbild geändert hat\n",
    "\n",
    "def photo(user_id):\n",
    "\t\tuser = api.get_user(user_id)\n",
    "        #prüft Imagelink zum default Profilbild für Twitter\n",
    "\t\tif user.profile_image_url == \"http://abs.twimg.com/sticky/default_profile_images/default_profile_normal.png\":\n",
    "\t\t\tscore += 1\n",
    "\t\t\tprint (\"User has default photo\")\n",
    "\t\telse:\n",
    "\t\t\tprint (\"User does not have default photo\")"
   ]
  },
  {
   "cell_type": "code",
   "execution_count": null,
   "metadata": {},
   "outputs": [],
   "source": [
    "#Prüft User Bio\n",
    "\n",
    "def empty_bio(userID):\n",
    "    user_list = api.lookup_users(user_ids = [userID])\n",
    "    for user in user_list:\n",
    "        bio = user.description\n",
    "    if bio == \"\":\n",
    "        \n",
    "        \n",
    "        return 1\n",
    "    else:\n",
    "        \n",
    "        return 0"
   ]
  },
  {
   "cell_type": "code",
   "execution_count": null,
   "metadata": {},
   "outputs": [],
   "source": [
    "#Gibt Entropiemaß der Tweethäufigkeitsverteilung wieder (evtl. Problem mit der Datetime Konversion)\n",
    "\n",
    "def time_between_tweets(userID):\n",
    "    #erzeugt eine Liste mit angepassten datetime Daten der Tweets des Users\n",
    "    #Versuch die user_tweets über die API zu gewinnen:\n",
    "    tweets = []\n",
    "    for page in tweepy.Cursor(api.user_timeline, user_id = userID, include_rts = True).pages():\n",
    "        for tweet in page:\n",
    "            t_time = str(tweet.created_at)\n",
    "            t_time = t_time.split(\" \")\n",
    "            t_time = t_time[1]\n",
    "            t_time = t_time.split(\":\")\n",
    "            t_time = \":\".join(t_time[:2])\n",
    "            tweets.append(t_time)\n",
    "            \n",
    "    freq_dist = nltk.FreqDist(tweets)\n",
    "    probs = [freq_dist.freq(l) for l in freq_dist]\n",
    "    entropy = -sum(p * math.log(p,2) for p in probs)\n",
    "    return entropy"
   ]
  },
  {
   "cell_type": "code",
   "execution_count": null,
   "metadata": {},
   "outputs": [],
   "source": [
    "#Zählt Vorkommnis klassischer Linkendungen (SEHR HOHE LAUFZEIT/Endlosschleife?)\n",
    "\n",
    "def count_urls(userID):\n",
    "\t\ttweets = []\n",
    "\t\tfor page in tweepy.Cursor(api.user_timeline, user_id = userID, include_rts = True).pages():\n",
    "\t\t\tfor tweet in page:\n",
    "\t\t\t\ttweets.append(tweet.text)\n",
    "\t\turl = [\".aero\", \".asia\", \".biz\", \".cat\", \".com\", \".coop\", \".edu\", \".gov\", \".info\", \".int\", \".jobs\", \".mil\", \".mobi\", \".museum\", \".name\", \".net\", \".org\", \".pro\", \".tel\", \".travel\"]\n",
    "\t\turl_count = 0\n",
    "\t\tfor tweet in tweets:\n",
    "\t\t\turl_bool = False\n",
    "\t\t\tfor u in url:\n",
    "\t\t\t\tif u in tweet:\n",
    "\t\t\t\t\turl_count += 1\n",
    "\t\treturn url_count"
   ]
  },
  {
   "cell_type": "code",
   "execution_count": null,
   "metadata": {},
   "outputs": [],
   "source": [
    "#Methode gibt die Anzahl der Tweets in den letzten 24 Stunden aus (Maß für Aktivität)\n",
    "\n",
    "def tweets_last_day(userID):\n",
    "    dates=[]\n",
    "    \n",
    "    \n",
    "    date_count = 0\n",
    "    #iteriere durch die einzelnen Tweets des Users\n",
    "    for page in tweepy.Cursor(api.user_timeline, user_id = userID, include_rts = True).pages():\n",
    "        #fülle die dates Liste mit den Erstellungszeiten der Tweets \n",
    "        for tweet in page:\n",
    "            dates.append(tweet.created_at)\n",
    "    #prüfe ob jeder Eintrag in dates länger als einen Tag her ist        \n",
    "    for date in dates:\n",
    "        if (datetime.datetime.now() - date).days < 1:\n",
    "            date_count += 1\n",
    "\n",
    "    return date_count"
   ]
  },
  {
   "cell_type": "code",
   "execution_count": null,
   "metadata": {},
   "outputs": [],
   "source": [
    "#Gibt Verhältnis von Friend- und Followerbeziehungen an\n",
    "\n",
    "def Verhältnis_Friends_Followers(userID):\n",
    "    #Sammelt Userdaten über ID\n",
    "    user = api.get_user(userID)\n",
    "    follower_ids = []\n",
    "    score = 0\n",
    "\n",
    "    follower = user.followers_count\n",
    "    friends = user.friends_count\n",
    "\n",
    "    try:\n",
    "        Verhältnis = friends/follower\n",
    "        return Verhältnis\n",
    "    except ZeroDivisionError:\n",
    "        return 0"
   ]
  },
  {
   "cell_type": "code",
   "execution_count": null,
   "metadata": {},
   "outputs": [],
   "source": [
    "#Prüft ob User verifiziert sind \n",
    "\n",
    "def verified(userID):\n",
    "    #verifizierte User sind auf keinen Fall Bots\n",
    "    user = api.get_user(userID)\n",
    "    if user.verified == True:\n",
    "        \n",
    "        return 0\n",
    "    else:\n",
    "        return 1"
   ]
  }
  
