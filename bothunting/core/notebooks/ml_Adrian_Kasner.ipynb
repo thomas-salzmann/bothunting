{
 "cells": [
  {
   "cell_type": "code",
   "execution_count": 42,
   "metadata": {},
   "outputs": [],
   "source": [
    "import pathlib\n",
    "\n",
    "import pandas as pd\n",
    "\n",
    "from bothunting import definitions"
   ]
  },
  {
   "cell_type": "markdown",
   "metadata": {},
   "source": [
    "# Auxiliary functions"
   ]
  },
  {
   "cell_type": "code",
   "execution_count": 43,
   "metadata": {},
   "outputs": [],
   "source": [
    "def show_head(df: pd.DataFrame):\n",
    "    print(df.head())\n",
    "    \n",
    "def show_tail(df: pd.DataFrame):\n",
    "    print(df.tail())\n",
    "    \n",
    "def get_header(df: pd.DataFrame):\n",
    "    return list(df.columns)\n",
    "    \n",
    "def show_header(df: pd.DataFrame):\n",
    "    print(get_header(df))\n",
    "    \n",
    "def print_sep():\n",
    "    print(40*\"-\")"
   ]
  },
  {
   "cell_type": "markdown",
   "metadata": {},
   "source": [
    "# Import feature data"
   ]
  },
  {
   "cell_type": "code",
   "execution_count": 44,
   "metadata": {},
   "outputs": [
    {
     "name": "stdout",
     "output_type": "stream",
     "text": [
      "C:\\Users\\akasn\\PycharmProjects\\bothunting\n"
     ]
    }
   ],
   "source": [
    "prj_root = definitions.get_prj_root()\n",
    "print(prj_root)"
   ]
  },
  {
   "cell_type": "code",
   "execution_count": 45,
   "metadata": {},
   "outputs": [],
   "source": [
    "path_features = prj_root / \"bothunting\" / \"datasets\" / \"expanded_dataset\"  / \"complete_data.csv\"\n",
    "df = pd.read_csv(path_features)"
   ]
  },
  {
   "cell_type": "code",
   "execution_count": 46,
   "metadata": {},
   "outputs": [
    {
     "name": "stdout",
     "output_type": "stream",
     "text": [
      "           id               name      screen_name  statuses_count  \\\n",
      "0  1502026416    TASUKU HAYAKAWA         0918Bask            2177   \n",
      "1  2492782375              ro_or         1120Roll            2660   \n",
      "2   293212315           bearclaw        14KBBrown            1254   \n",
      "3   191839658  pocahontas farida      wadespeters          202968   \n",
      "4  3020965143           Ms Kathy  191a5bd05da04dc              82   \n",
      "\n",
      "   followers_count  friends_count  favourites_count  listed_count  \\\n",
      "0              208            332               265             1   \n",
      "1              330            485              3972             5   \n",
      "2              166            177              1185             0   \n",
      "3             2248            981             60304           101   \n",
      "4               21             79                 5             0   \n",
      "\n",
      "                      url lang  ...   test_set_2 is_protected  \\\n",
      "0                     NaN   ja  ...          0.0         True   \n",
      "1                     NaN   ja  ...          0.0        False   \n",
      "2                     NaN   en  ...          0.0          NaN   \n",
      "3  http://t.co/rGV0HIJGsu   en  ...          0.0         True   \n",
      "4                     NaN   en  ...          0.0        False   \n",
      "\n",
      "   time_of_existence  average_daily_tweets  inactive_days has_default_image  \\\n",
      "0             2603.0                   NaN            NaN             False   \n",
      "1             2267.0              1.329661         1761.0             False   \n",
      "2                NaN                   NaN            NaN               NaN   \n",
      "3             3601.0                   NaN            NaN             False   \n",
      "4             1998.0              0.102000         1925.0             False   \n",
      "\n",
      "  bio_is_empty  friends_followers_ratio is_verified result  \n",
      "0        False                 1.036735       False      0  \n",
      "1        False                 1.588235       False      0  \n",
      "2          NaN                      NaN         NaN      0  \n",
      "3        False                 0.471079       False      0  \n",
      "4        False                 5.846154       False      0  \n",
      "\n",
      "[5 rows x 51 columns]\n",
      "----------------------------------------\n",
      "               id               name      screen_name  statuses_count  \\\n",
      "11012  2396095423   Aldridge Biz Opp   AldridgeBizOpp             106   \n",
      "11013  2396099064    DL Business Opp    DLBusinessOpp             173   \n",
      "11014  2429375022  LF Career Options  LFCareerOptions             137   \n",
      "11015  2429405521          Rick Chou      RickChou_TD             170   \n",
      "11016  2438666143   CK Small Biz Opp    CKSmallBizOpp              65   \n",
      "\n",
      "       followers_count  friends_count  favourites_count  listed_count  url  \\\n",
      "11012                4             23                 0             0  NaN   \n",
      "11013                2             20                 0             0  NaN   \n",
      "11014               29            124                 0             0  NaN   \n",
      "11015              115            353                38             2  NaN   \n",
      "11016              135            998                 0             0  NaN   \n",
      "\n",
      "      lang  ...   test_set_2 is_protected  time_of_existence  \\\n",
      "11012   en  ...          NaN        False             2323.0   \n",
      "11013   en  ...          NaN        False             2323.0   \n",
      "11014   en  ...          NaN        False             2304.0   \n",
      "11015   en  ...          NaN        False             2304.0   \n",
      "11016   en  ...          NaN        False             2298.0   \n",
      "\n",
      "       average_daily_tweets  inactive_days has_default_image bio_is_empty  \\\n",
      "11012              0.316265         2196.0             False        False   \n",
      "11013              1.085198         1949.0             False        False   \n",
      "11014              0.564614         2080.0             False        False   \n",
      "11015              0.724631         1698.0             False        False   \n",
      "11016              0.058696         2274.0             False        False   \n",
      "\n",
      "       friends_followers_ratio is_verified result  \n",
      "11012                 2.625000       False      2  \n",
      "11013                 3.885714       False      2  \n",
      "11014                 2.452381       False      2  \n",
      "11015                 0.897078       False      2  \n",
      "11016                 5.161850       False      2  \n",
      "\n",
      "[5 rows x 51 columns]\n",
      "11017\n"
     ]
    }
   ],
   "source": [
    "show_head(df)\n",
    "print_sep()\n",
    "show_tail(df)\n",
    "\n",
    "print(len(df))"
   ]
  },
  {
   "cell_type": "markdown",
   "metadata": {},
   "source": [
    "# Filter dataset"
   ]
  },
  {
   "cell_type": "code",
   "execution_count": 47,
   "metadata": {},
   "outputs": [
    {
     "name": "stdout",
     "output_type": "stream",
     "text": [
      "           id               name      screen_name  statuses_count  \\\n",
      "0  1502026416    TASUKU HAYAKAWA         0918Bask            2177   \n",
      "1  2492782375              ro_or         1120Roll            2660   \n",
      "2   293212315           bearclaw        14KBBrown            1254   \n",
      "3   191839658  pocahontas farida      wadespeters          202968   \n",
      "4  3020965143           Ms Kathy  191a5bd05da04dc              82   \n",
      "\n",
      "   followers_count  friends_count  favourites_count  listed_count  \\\n",
      "0              208            332               265             1   \n",
      "1              330            485              3972             5   \n",
      "2              166            177              1185             0   \n",
      "3             2248            981             60304           101   \n",
      "4               21             79                 5             0   \n",
      "\n",
      "                      url lang  ...   test_set_2 is_protected  \\\n",
      "0                     NaN   ja  ...          0.0         True   \n",
      "1                     NaN   ja  ...          0.0        False   \n",
      "2                     NaN   en  ...          0.0          NaN   \n",
      "3  http://t.co/rGV0HIJGsu   en  ...          0.0         True   \n",
      "4                     NaN   en  ...          0.0        False   \n",
      "\n",
      "   time_of_existence  average_daily_tweets  inactive_days has_default_image  \\\n",
      "0             2603.0                   NaN            NaN             False   \n",
      "1             2267.0              1.329661         1761.0             False   \n",
      "2                NaN                   NaN            NaN               NaN   \n",
      "3             3601.0                   NaN            NaN             False   \n",
      "4             1998.0              0.102000         1925.0             False   \n",
      "\n",
      "  bio_is_empty  friends_followers_ratio is_verified result  \n",
      "0        False                 1.036735       False      0  \n",
      "1        False                 1.588235       False      0  \n",
      "2          NaN                      NaN         NaN      0  \n",
      "3        False                 0.471079       False      0  \n",
      "4        False                 5.846154       False      0  \n",
      "\n",
      "[5 rows x 51 columns]\n",
      "----------------------------------------\n",
      "header=['id', 'name', 'screen_name', 'statuses_count', 'followers_count', 'friends_count', 'favourites_count', 'listed_count', 'url', 'lang', 'time_zone', 'location', 'default_profile', 'default_profile_image', 'geo_enabled', 'profile_image_url', 'profile_banner_url', 'profile_use_background_image', 'profile_background_image_url_https', 'profile_text_color', 'profile_image_url_https', 'profile_sidebar_border_color', 'profile_background_tile', 'profile_sidebar_fill_color', 'profile_background_image_url', 'profile_background_color', 'profile_link_color', 'utc_offset', 'is_translator', 'follow_request_sent', 'protected', 'verified', 'notifications', 'description', 'contributors_enabled', 'following', 'created_at', 'timestamp', 'crawled_at', 'updated', 'test_set_1', 'test_set_2', 'is_protected', 'time_of_existence', 'average_daily_tweets', 'inactive_days', 'has_default_image', 'bio_is_empty', 'friends_followers_ratio', 'is_verified', 'result']\n",
      "new_header=['id', 'is_protected', 'time_of_existence', 'average_daily_tweets', 'inactive_days', 'has_default_image', 'bio_is_empty', 'friends_followers_ratio', 'is_verified', 'result']\n",
      "----------------------------------------\n",
      "           id is_protected  time_of_existence  average_daily_tweets  \\\n",
      "0  1502026416         True             2603.0                   NaN   \n",
      "1  2492782375        False             2267.0              1.329661   \n",
      "2   293212315          NaN                NaN                   NaN   \n",
      "3   191839658         True             3601.0                   NaN   \n",
      "4  3020965143        False             1998.0              0.102000   \n",
      "\n",
      "   inactive_days has_default_image bio_is_empty  friends_followers_ratio  \\\n",
      "0            NaN             False        False                 1.036735   \n",
      "1         1761.0             False        False                 1.588235   \n",
      "2            NaN               NaN          NaN                      NaN   \n",
      "3            NaN             False        False                 0.471079   \n",
      "4         1925.0             False        False                 5.846154   \n",
      "\n",
      "  is_verified  result  \n",
      "0       False       0  \n",
      "1       False       0  \n",
      "2         NaN       0  \n",
      "3       False       0  \n",
      "4       False       0  \n"
     ]
    }
   ],
   "source": [
    "def filter_columns(df: pd.DataFrame):\n",
    "    df = df.copy()\n",
    "    header = get_header(df)\n",
    "    idx = header.index(\"is_protected\")\n",
    "    new_header = [\"id\"] + header[idx:]\n",
    "    print_sep()\n",
    "    print(f\"header={header}\")\n",
    "    print(f\"new_header={new_header}\")\n",
    "    return df[new_header]\n",
    "    \n",
    "show_head(df)\n",
    "df = filter_columns(df)\n",
    "print_sep()\n",
    "show_head(df)"
   ]
  },
  {
   "cell_type": "code",
   "execution_count": 48,
   "metadata": {},
   "outputs": [],
   "source": [
    "def filter_removed_accounts(df: pd.DataFrame):\n",
    "    df = df.copy()\n",
    "    return df[~pd.isnull(df[\"time_of_existence\"])]"
   ]
  },
  {
   "cell_type": "code",
   "execution_count": 49,
   "metadata": {},
   "outputs": [
    {
     "name": "stdout",
     "output_type": "stream",
     "text": [
      "8613\n"
     ]
    }
   ],
   "source": [
    "df = filter_removed_accounts(df)\n",
    "print(len(df))"
   ]
  },
  {
   "cell_type": "code",
   "execution_count": 50,
   "metadata": {},
   "outputs": [
    {
     "name": "stdout",
     "output_type": "stream",
     "text": [
      "8089\n"
     ]
    }
   ],
   "source": [
    "df = df.dropna()\n",
    "print(len(df))"
   ]
  },
  {
   "cell_type": "markdown",
   "metadata": {},
   "source": [
    "# Build machine learning models"
   ]
  },
  {
   "cell_type": "code",
   "execution_count": 51,
   "metadata": {},
   "outputs": [],
   "source": [
    "from sklearn.model_selection import train_test_split\n",
    "from sklearn.preprocessing import StandardScaler\n",
    "\n",
    "from sklearn.neural_network import MLPClassifier\n",
    "from sklearn.neighbors import KNeighborsClassifier\n",
    "from sklearn.svm import SVC\n",
    "from sklearn.gaussian_process import GaussianProcessClassifier\n",
    "from sklearn.gaussian_process.kernels import RBF\n",
    "from sklearn.tree import DecisionTreeClassifier\n",
    "from sklearn.ensemble import RandomForestClassifier, AdaBoostClassifier\n",
    "from sklearn.naive_bayes import GaussianNB\n",
    "from sklearn.discriminant_analysis import QuadraticDiscriminantAnalysis\n",
    "\n",
    "from sklearn import metrics"
   ]
  },
  {
   "cell_type": "code",
   "execution_count": 52,
   "metadata": {},
   "outputs": [],
   "source": [
    "classifiers = {\n",
    "    \"MPLClassifier\": MLPClassifier,\n",
    "    \"KNeighborsClassifier\": KNeighborsClassifier,\n",
    "    \"SVC\": SVC,\n",
    "    #\"GaussianProcessClassifier\": GaussianProcessClassifier,\n",
    "    # \"RBF\": RBF,\n",
    "    \"DecisionTreeClassifier\": DecisionTreeClassifier,\n",
    "    \"RandomForestClassifier\": RandomForestClassifier,\n",
    "    \"AdaBoostClassifier\": AdaBoostClassifier,\n",
    "    \"GaussianNB\": GaussianNB,\n",
    "    \"QuadraticDiscriminantAnalysis\": QuadraticDiscriminantAnalysis\n",
    "}"
   ]
  },
  {
   "cell_type": "code",
   "execution_count": 53,
   "metadata": {},
   "outputs": [
    {
     "name": "stdout",
     "output_type": "stream",
     "text": [
      "Training and testing classifier MPLClassifier\n",
      "Training and testing classifier KNeighborsClassifier\n",
      "Training and testing classifier SVC\n",
      "Training and testing classifier DecisionTreeClassifier\n",
      "Training and testing classifier RandomForestClassifier\n",
      "Training and testing classifier AdaBoostClassifier\n",
      "Training and testing classifier GaussianNB\n",
      "Training and testing classifier QuadraticDiscriminantAnalysis\n",
      "Classifier: MPLClassifier\n",
      "Confusion matrix: [[ 531   25   50]\n",
      " [  26  318    2]\n",
      " [  63    6 1002]]\n",
      "Precision: 0.9145426546027866\n",
      "Recall: 0.9149777558082056\n",
      "F1 score: 0.9146911929826721\n",
      "----------------------------------------\n",
      "Classifier: KNeighborsClassifier\n",
      "Confusion matrix: [[ 549   22   40]\n",
      " [  26  325    1]\n",
      " [  45    2 1013]]\n",
      "Precision: 0.9325669275414742\n",
      "Recall: 0.9327731092436975\n",
      "F1 score: 0.9326484535175324\n",
      "----------------------------------------\n",
      "Classifier: SVC\n",
      "Confusion matrix: [[544  32 110]\n",
      " [ 32 313   6]\n",
      " [ 44   4 938]]\n",
      "Precision: 0.8925200133312472\n",
      "Recall: 0.8872960949085517\n",
      "F1 score: 0.8887201204236311\n",
      "----------------------------------------\n",
      "Classifier: DecisionTreeClassifier\n",
      "Confusion matrix: [[ 517   33   36]\n",
      " [  35  314    4]\n",
      " [  68    2 1014]]\n",
      "Precision: 0.9112089880123675\n",
      "Recall: 0.912011863568957\n",
      "F1 score: 0.911299076402523\n",
      "----------------------------------------\n",
      "Classifier: RandomForestClassifier\n",
      "Confusion matrix: [[ 593   28   45]\n",
      " [  12  320    0]\n",
      " [  15    1 1009]]\n",
      "Precision: 0.9520390021175914\n",
      "Recall: 0.9500741473059812\n",
      "F1 score: 0.950494957533688\n",
      "----------------------------------------\n",
      "Classifier: AdaBoostClassifier\n",
      "Confusion matrix: [[514  55  78]\n",
      " [ 25 291   0]\n",
      " [ 81   3 976]]\n",
      "Precision: 0.8820637390230848\n",
      "Recall: 0.8803756796836382\n",
      "F1 score: 0.8807301355059899\n",
      "----------------------------------------\n",
      "Classifier: GaussianNB\n",
      "Confusion matrix: [[  14    0    1]\n",
      " [ 107  280    8]\n",
      " [ 499   69 1045]]\n",
      "Precision: 0.745874790406427\n",
      "Recall: 0.661888284725655\n",
      "F1 score: 0.5516539834717972\n",
      "----------------------------------------\n",
      "Classifier: QuadraticDiscriminantAnalysis\n",
      "Confusion matrix: [[ 620  349 1054]\n",
      " [   0    0    0]\n",
      " [   0    0    0]]\n",
      "Precision: 0.093927251340186\n",
      "Recall: 0.3064755313890262\n",
      "F1 score: 0.14378723379583525\n",
      "----------------------------------------\n"
     ]
    },
    {
     "name": "stderr",
     "output_type": "stream",
     "text": [
      "D:\\Anaconda\\lib\\site-packages\\sklearn\\discriminant_analysis.py:682: UserWarning: Variables are collinear\n",
      "  warnings.warn(\"Variables are collinear\")\n",
      "D:\\Anaconda\\lib\\site-packages\\sklearn\\discriminant_analysis.py:706: RuntimeWarning: divide by zero encountered in power\n",
      "  X2 = np.dot(Xm, R * (S ** (-0.5)))\n",
      "D:\\Anaconda\\lib\\site-packages\\sklearn\\discriminant_analysis.py:706: RuntimeWarning: invalid value encountered in multiply\n",
      "  X2 = np.dot(Xm, R * (S ** (-0.5)))\n",
      "D:\\Anaconda\\lib\\site-packages\\sklearn\\discriminant_analysis.py:709: RuntimeWarning: divide by zero encountered in log\n",
      "  u = np.asarray([np.sum(np.log(s)) for s in self.scalings_])\n",
      "D:\\Anaconda\\lib\\site-packages\\sklearn\\metrics\\classification.py:1135: UndefinedMetricWarning: F-score is ill-defined and being set to 0.0 in labels with no predicted samples.\n",
      "  'precision', 'predicted', average, warn_for)\n",
      "D:\\Anaconda\\lib\\site-packages\\sklearn\\metrics\\classification.py:1135: UndefinedMetricWarning: Precision is ill-defined and being set to 0.0 in labels with no predicted samples.\n",
      "  'precision', 'predicted', average, warn_for)\n"
     ]
    }
   ],
   "source": [
    "X = df\n",
    "X_header = get_header(X)[1:-1]\n",
    "account_id, X, y = df[\"id\"], df[X_header], df[\"result\"]\n",
    "X = StandardScaler().fit_transform(X)\n",
    "X_train, X_test, y_train, y_test = train_test_split(X, y, test_size=.25, random_state=42)\n",
    "\n",
    "confusion_matrices = {}\n",
    "precision = {}\n",
    "recall = {}\n",
    "f1_score = {}\n",
    "\n",
    "for clf_name in classifiers:\n",
    "    print(f\"Training and testing classifier {clf_name}\")\n",
    "    clf = classifiers[clf_name]()\n",
    "    clf.fit(X_train, y_train)\n",
    "    y_pred = clf.predict(X_test)\n",
    "    confusion_matrices[clf_name] = metrics.confusion_matrix(y_pred, y_test)\n",
    "    f1_score[clf_name] = metrics.f1_score(y_test, y_pred, average=\"weighted\")\n",
    "    precision[clf_name] = metrics.precision_score(y_test, y_pred, average=\"weighted\")\n",
    "    recall[clf_name] = metrics.recall_score(y_test, y_pred, average=\"weighted\")\n",
    "\n",
    "for clf_name in classifiers:\n",
    "    print(f\"Classifier: {clf_name}\")\n",
    "    print(f\"Confusion matrix: {confusion_matrices[clf_name]}\")\n",
    "    print(f\"Precision: {precision[clf_name]}\")\n",
    "    print(f\"Recall: {recall[clf_name]}\")\n",
    "    print(f\"F1 score: {f1_score[clf_name]}\")\n",
    "    print_sep()"
   ]
  },
  {
   "cell_type": "code",
   "execution_count": 54,
   "metadata": {},
   "outputs": [
    {
     "name": "stdout",
     "output_type": "stream",
     "text": [
      "[0.9146911929826721, 0.9326484535175324, 0.8887201204236311, 0.911299076402523, 0.950494957533688, 0.8807301355059899, 0.5516539834717972, 0.14378723379583525]\n",
      "[0.9149777558082056, 0.9327731092436975, 0.8872960949085517, 0.912011863568957, 0.9500741473059812, 0.8803756796836382, 0.661888284725655, 0.3064755313890262]\n",
      "[0.9145426546027866, 0.9325669275414742, 0.8925200133312472, 0.9112089880123675, 0.9520390021175914, 0.8820637390230848, 0.745874790406427, 0.093927251340186]\n"
     ]
    }
   ],
   "source": [
    "f1_scores = []\n",
    "recall_scores = []\n",
    "precision_scores = []\n",
    "\n",
    "for clf_name in classifiers:\n",
    "    f1_scores.append(f1_score[clf_name])\n",
    "    recall_scores.append(recall[clf_name])\n",
    "    precision_scores.append(precision[clf_name])\n",
    "print(f1_scores)\n",
    "print(recall_scores)\n",
    "print(precision_scores)"
   ]
  },
  {
   "cell_type": "code",
   "execution_count": 55,
   "metadata": {},
   "outputs": [],
   "source": [
    "import matplotlib.pyplot as plt\n",
    "import numpy as np"
   ]
  },
  {
   "cell_type": "code",
   "execution_count": 56,
   "metadata": {},
   "outputs": [
    {
     "data": {
      "image/png": "[encoded data removed]",
      "text/plain": [
       "<Figure size 432x288 with 1 Axes>"
      ]
     },
     "metadata": {
      "needs_background": "light"
     },
     "output_type": "display_data"
    }
   ],
   "source": [
    "plot = plt.subplot(111)\n",
    "plot.bar(np.arange(len(classifiers))-0.2, f1_scores, width = 0.2, color = \"r\", align = \"center\", label = \"F1 Score\")\n",
    "plot.bar(np.arange(len(classifiers)), recall_scores, width = 0.2, color = \"b\", align = \"center\", label = \"Recall Score\")\n",
    "plot.bar(np.arange(len(classifiers))+0.2, precision_scores, width = 0.2, color = \"g\", align = \"center\", label = \"Precision Score\")\n",
    "plot.set_xticklabels(classifiers)\n",
    "plot.set_ylabel(\"Scores\")\n",
    "plot.set_xlabel(\"Classifier\")\n",
    "plot.legend(loc = \"upper right\")\n",
    "\n",
    "plt.show()"
   ]
  },
  {
   "cell_type": "code",
   "execution_count": 111,
   "metadata": {},
   "outputs": [
    {
     "name": "stdout",
     "output_type": "stream",
     "text": [
      "{'n_estimators': [200, 400, 600, 800, 1000, 1200, 1400, 1600, 1800, 2000], 'max_features': ['auto', 'sqrt'], 'max_depth': [10, 20, 30, 40, 50, 60, 70, 80, 90, 100, 110, None], 'min_samples_split': [2, 5, 10], 'min_samples_leaf': [1, 2, 4], 'bootstrap': [True, False]}\n"
     ]
    }
   ],
   "source": [
    "from sklearn.model_selection import RandomizedSearchCV\n",
    "from sklearn.model_selection import GridSearchCV\n",
    "\n",
    "# Number of trees in random forest\n",
    "n_estimators = [int(x) for x in np.linspace(start = 200, stop = 2000, num = 10)]\n",
    "# Number of features to consider at every split\n",
    "max_features = ['auto', 'sqrt']\n",
    "# Maximum number of levels in tree\n",
    "max_depth = [int(x) for x in np.linspace(10, 110, num = 11)]\n",
    "max_depth.append(None)\n",
    "# Minimum number of samples required to split a node\n",
    "min_samples_split = [2, 5, 10]\n",
    "# Minimum number of samples required at each leaf node\n",
    "min_samples_leaf = [1, 2, 4]\n",
    "# Method of selecting samples for training each tree\n",
    "bootstrap = [True, False]# Create the random grid\n",
    "random_grid = {'n_estimators': n_estimators,\n",
    "               'max_features': max_features,\n",
    "               'max_depth': max_depth,\n",
    "               'min_samples_split': min_samples_split,\n",
    "               'min_samples_leaf': min_samples_leaf,\n",
    "               'bootstrap': bootstrap}\n",
    "\n",
    "print(random_grid)"
   ]
  },
  {
   "cell_type": "code",
   "execution_count": 98,
   "metadata": {},
   "outputs": [
    {
     "name": "stdout",
     "output_type": "stream",
     "text": [
      "0.950541063467919\n",
      "0.9524485330333207\n",
      "0.9500741473059812\n"
     ]
    }
   ],
   "source": [
    "X = df\n",
    "X_header = get_header(X)[1:-1]\n",
    "account_id, X, y = df[\"id\"], df[X_header], df[\"result\"]\n",
    "X = StandardScaler().fit_transform(X)\n",
    "X_train, X_test, y_train, y_test = train_test_split(X, y, test_size=.25, random_state=42)\n",
    "\n",
    "RFC = RandomForestClassifier()\n",
    "RFC.fit(X_train, y_train)\n",
    "y_pred = RFC.predict(X_test)\n",
    "print(metrics.f1_score(y_test, y_pred, average=\"weighted\"))\n",
    "print(metrics.precision_score(y_test, y_pred, average=\"weighted\"))\n",
    "print(metrics.recall_score(y_test, y_pred, average=\"weighted\"))"
   ]
  },
  {
   "cell_type": "code",
   "execution_count": 96,
   "metadata": {},
   "outputs": [
    {
     "name": "stdout",
     "output_type": "stream",
     "text": [
      "Fitting 3 folds for each of 100 candidates, totalling 300 fits\n"
     ]
    },
    {
     "name": "stderr",
     "output_type": "stream",
     "text": [
      "[Parallel(n_jobs=-1)]: Done  25 tasks      | elapsed:   46.8s\n",
      "[Parallel(n_jobs=-1)]: Done 146 tasks      | elapsed:  3.5min\n",
      "[Parallel(n_jobs=-1)]: Done 300 out of 300 | elapsed:  7.0min finished\n"
     ]
    },
    {
     "data": {
      "text/plain": [
       "RandomizedSearchCV(cv=3, error_score='raise',\n",
       "          estimator=RandomForestClassifier(bootstrap=True, class_weight=None, criterion='gini',\n",
       "            max_depth=None, max_features='auto', max_leaf_nodes=None,\n",
       "            min_impurity_decrease=0.0, min_impurity_split=None,\n",
       "            min_samples_leaf=1, min_samples_split=2,\n",
       "            min_weight_fraction_leaf=0.0, n_estimators=10, n_jobs=1,\n",
       "            oob_score=False, random_state=None, verbose=0,\n",
       "            warm_start=False),\n",
       "          fit_params=None, iid=True, n_iter=100, n_jobs=-1,\n",
       "          param_distributions={'n_estimators': [200, 400, 600, 800, 1000, 1200, 1400, 1600, 1800, 2000], 'max_features': ['auto', 'sqrt'], 'max_depth': [10, 20, 30, 40, 50, 60, 70, 80, 90, 100, 110, None], 'min_samples_split': [2, 5, 10], 'min_samples_leaf': [1, 2, 4], 'bootstrap': [True, False]},\n",
       "          pre_dispatch='2*n_jobs', random_state=42, refit=True,\n",
       "          return_train_score='warn', scoring=None, verbose=2)"
      ]
     },
     "execution_count": 96,
     "metadata": {},
     "output_type": "execute_result"
    }
   ],
   "source": [
    "rf_random = RandomizedSearchCV(estimator = RFC, param_distributions = random_grid, n_iter = 100, cv = 3, verbose=2, random_state=42, n_jobs = -1)\n",
    "rf_random.fit(X_train, y_train)"
   ]
  },
  {
   "cell_type": "code",
   "execution_count": 97,
   "metadata": {},
   "outputs": [
    {
     "name": "stdout",
     "output_type": "stream",
     "text": [
      "{'n_estimators': 1000, 'min_samples_split': 2, 'min_samples_leaf': 1, 'max_features': 'sqrt', 'max_depth': 20, 'bootstrap': True}\n"
     ]
    }
   ],
   "source": [
    "print(rf_random.best_params_)"
   ]
  },
  {
   "cell_type": "code",
   "execution_count": 106,
   "metadata": {},
   "outputs": [
    {
     "name": "stdout",
     "output_type": "stream",
     "text": [
      "0.9524306865383891\n",
      "0.9538629690958218\n",
      "0.9520514087988137\n"
     ]
    }
   ],
   "source": [
    "RFC_1 = RandomForestClassifier(n_estimators = 1000, min_samples_split = 2, min_samples_leaf=1, max_features = \"sqrt\", max_depth=20, bootstrap = \"True\")\n",
    "RFC_1.fit(X_train, y_train)\n",
    "y_pred_1 = RFC_1.predict(X_test)\n",
    "print(metrics.f1_score(y_test, y_pred_1, average=\"weighted\"))\n",
    "print(metrics.precision_score(y_test, y_pred_1, average=\"weighted\"))\n",
    "print(metrics.recall_score(y_test, y_pred_1, average=\"weighted\"))"
   ]
  },
  {
   "cell_type": "code",
   "execution_count": 107,
   "metadata": {},
   "outputs": [
    {
     "name": "stdout",
     "output_type": "stream",
     "text": [
      "Difference F1 Score: \n",
      "0.0004789049807133461\n",
      "Difference Precision Score: \n",
      "0.0003064105766360514\n",
      "Difference Recall Score: \n",
      "0.0004943153732080985\n"
     ]
    }
   ],
   "source": [
    "print(\"Difference F1 Score: \")\n",
    "print(metrics.f1_score(y_test, y_pred_1, average=\"weighted\")-metrics.f1_score(y_test, y_pred, average=\"weighted\"))\n",
    "\n",
    "print(\"Difference Precision Score: \")\n",
    "print(metrics.precision_score(y_test, y_pred_1, average=\"weighted\")-metrics.precision_score(y_test, y_pred, average=\"weighted\"))\n",
    "\n",
    "print(\"Difference Recall Score: \")\n",
    "print(metrics.recall_score(y_test, y_pred_1, average=\"weighted\")-metrics.recall_score(y_test, y_pred, average=\"weighted\"))\n",
    "\n",
    "#Minimale Veränderungen in positive/negative Richtung (je nach Iteration)"
   ]
  },
  {
   "cell_type": "code",
   "execution_count": 115,
   "metadata": {},
   "outputs": [],
   "source": [
    "param_grid = {\n",
    "    'bootstrap': [True],\n",
    "    'max_depth': [10,20,30,40],\n",
    "    'max_features': [\"sqrt\"],\n",
    "    'min_samples_leaf': [1,2],\n",
    "    'min_samples_split': [2,4,6],\n",
    "    'n_estimators': [600,800,1000,1200,1400]\n",
    "}"
   ]
  },
  {
   "cell_type": "code",
   "execution_count": 116,
   "metadata": {},
   "outputs": [
    {
     "name": "stdout",
     "output_type": "stream",
     "text": [
      "Fitting 3 folds for each of 120 candidates, totalling 360 fits\n"
     ]
    },
    {
     "name": "stderr",
     "output_type": "stream",
     "text": [
      "[Parallel(n_jobs=-1)]: Done  25 tasks      | elapsed:   29.6s\n",
      "[Parallel(n_jobs=-1)]: Done 146 tasks      | elapsed:  2.8min\n",
      "[Parallel(n_jobs=-1)]: Done 360 out of 360 | elapsed:  7.4min finished\n"
     ]
    },
    {
     "name": "stdout",
     "output_type": "stream",
     "text": [
      "{'bootstrap': True, 'max_depth': 40, 'max_features': 'sqrt', 'min_samples_leaf': 1, 'min_samples_split': 2, 'n_estimators': 800}\n"
     ]
    }
   ],
   "source": [
    "grid_search = GridSearchCV(estimator = RFC, param_grid = param_grid, \n",
    "                          cv = 3, n_jobs = -1, verbose = 2)\n",
    "grid_search.fit(X_train, y_train)\n",
    "\n",
    "print(grid_search.best_params_)"
   ]
  },
  {
   "cell_type": "code",
   "execution_count": 120,
   "metadata": {},
   "outputs": [
    {
     "name": "stdout",
     "output_type": "stream",
     "text": [
      "0.9524346648510107\n",
      "0.9538579627070335\n",
      "0.9520514087988137\n"
     ]
    }
   ],
   "source": [
    "RFC_2 = RandomForestClassifier(n_estimators=800, min_samples_split=2, min_samples_leaf=1, max_features=\"sqrt\", max_depth=40, bootstrap=\"True\")\n",
    "RFC_2.fit(X_train, y_train)\n",
    "y_pred_2 = RFC_2.predict(X_test)\n",
    "print(metrics.f1_score(y_test, y_pred_2, average=\"weighted\"))\n",
    "print(metrics.precision_score(y_test, y_pred_2, average=\"weighted\"))\n",
    "print(metrics.recall_score(y_test, y_pred_2, average=\"weighted\"))"
   ]
  },
  {
   "cell_type": "code",
   "execution_count": 121,
   "metadata": {},
   "outputs": [
    {
     "name": "stdout",
     "output_type": "stream",
     "text": [
      "Difference F1 Score: \n",
      "3.978312621555347e-06\n",
      "Difference Precision Score: \n",
      "-5.006388788308946e-06\n",
      "Difference Recall Score: \n",
      "0.0\n"
     ]
    }
   ],
   "source": [
    "print(\"Difference F1 Score: \")\n",
    "print(metrics.f1_score(y_test, y_pred_2, average=\"weighted\")-metrics.f1_score(y_test, y_pred_1, average=\"weighted\"))\n",
    "\n",
    "print(\"Difference Precision Score: \")\n",
    "print(metrics.precision_score(y_test, y_pred_2, average=\"weighted\")-metrics.precision_score(y_test, y_pred_1, average=\"weighted\"))\n",
    "\n",
    "print(\"Difference Recall Score: \")\n",
    "print(metrics.recall_score(y_test, y_pred_2, average=\"weighted\")-metrics.recall_score(y_test, y_pred_1, average=\"weighted\"))\n",
    "\n",
    "#Minimale Veränderungen in positive/negative Richtung (je nach Iteration)"
   ]
  },
  {
   "cell_type": "code",
   "execution_count": null,
   "metadata": {},
   "outputs": [],
   "source": [
    "# Login for the Twitter API: (Tweepy has to be imported as tw)\n",
    "def login(consumer_key, consumer_secret, access_token, access_token_secret):\n",
    "    auth = tw.OAuthHandler(consumer_key, consumer_secret)\n",
    "    auth.set_access_token(access_token, access_token_secret)\n",
    "    api = tw.API(auth, wait_on_rate_limit=True)"
   ]
  },
  {
   "cell_type": "code",
   "execution_count": null,
   "metadata": {},
   "outputs": [],
   "source": [
    "# Method for predicitions using the Random Forest Classifier\n",
    "def Random_Forest_predict(df, target):\n",
    "    X = df\n",
    "    X_header = get_header(X)[1:-1]\n",
    "    account_id, X, y = df[\"id\"], df[X_header], df[\"result\"]\n",
    "    X = StandardScaler().fit_transform(X)\n",
    "    X_train, X_test, y_train, y_test = train_test_split(X, y, test_size=.25, random_state=42)\n",
    "    RFC = RandomForestClassifer()\n",
    "    RFC.fit(X_train, y_train)\n",
    "    y_pred = RFC.predict(target)\n",
    "    print(y_pred)"
   ]
  }
 ],
 "metadata": {
  "kernelspec": {
   "display_name": "Python 3",
   "language": "python",
   "name": "python3"
  },
  "language_info": {
   "codemirror_mode": {
    "name": "ipython",
    "version": 3
   },
   "file_extension": ".py",
   "mimetype": "text/x-python",
   "name": "python",
   "nbconvert_exporter": "python",
   "pygments_lexer": "ipython3",
   "version": "3.7.0"
  }
 },
 "nbformat": 4,
 "nbformat_minor": 4
}
