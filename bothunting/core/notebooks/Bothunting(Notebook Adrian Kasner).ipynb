{
 "cells": [
  {
   "cell_type": "code",
   "execution_count": 1,
   "metadata": {},
   "outputs": [],
   "source": [
    "import pandas as pd\n",
    "\n",
    "import matplotlib.pyplot as plt\n",
    "%matplotlib inline\n",
    "\n",
    "import collections\n",
    "\n",
    "social_tweets = pd.read_csv (r\"C:\\Users\\akasn\\Desktop\\Bothunting\\datasets_full.csv\\social_spambots_1.csv\\tweets.csv\" ) \n",
    "\n",
    "traditional_tweets = pd.read_csv (r\"C:\\Users\\akasn\\Desktop\\Bothunting\\datasets_full.csv\\traditional_spambots_1.csv\\tweets.csv\")\n",
    "\n",
    "genuine_tweets = pd.read_csv (r\"C:\\Users\\akasn\\Desktop\\Bothunting\\datasets_full.csv\\genuine_accounts.csv\\tweets.csv\") "
   ]
  },
  {
   "cell_type": "code",
   "execution_count": 39,
   "metadata": {
    "tags": []
   },
   "outputs": [],
   "source": [
    "#creates dataframe consisting only of [\"created_at\",\"user_id\" and \"id\" columns for a select user] with \"created_at\" as the index\n",
    "\n",
    "def select_user(user_id):\n",
    "\n",
    "    social_tweets_2 = social_tweets.set_index(\"created_at\", drop=False)\n",
    "    social_tweets_3 = social_tweets_2[[ \"id\", \"user_id\", \"created_at\"]]\n",
    "    is_social_user = social_tweets_3[\"user_id\"]==user_id\n",
    "    social_tweets_4 = social_tweets_3[is_social_user]\n",
    "    return(social_tweets_4)\n",
    "\n",
    "\n"
   ]
  },
  {
   "cell_type": "code",
   "execution_count": 42,
   "metadata": {
    "tags": []
   },
   "outputs": [
    {
     "output_type": "stream",
     "name": "stdout",
     "text": "id   user_id  \\\ncreated_at                                                     \nWed Nov 12 20:14:48 +0000 2014  532627591686275072  24858289   \nWed Nov 12 20:01:32 +0000 2014  532624255058706432  24858289   \nWed Nov 12 12:41:32 +0000 2014  532513524460052480  24858289   \nTue Nov 11 22:23:43 +0000 2014  532297646669852672  24858289   \nTue Nov 11 22:17:01 +0000 2014  532295960807100416  24858289   \n...                                            ...       ...   \nWed May 04 20:43:48 +0000 2011   65879319498588160  24858289   \nSun Jan 09 20:16:48 +0000 2011   24197918651064322  24858289   \nSun Jan 09 20:11:02 +0000 2011   24196468076183552  24858289   \nSun Jan 09 20:06:57 +0000 2011   24195441352507392  24858289   \nTue Mar 17 08:57:10 +0000 2009          1341215499  24858289   \n\n                                                    created_at  \ncreated_at                                                      \nWed Nov 12 20:14:48 +0000 2014  Wed Nov 12 20:14:48 +0000 2014  \nWed Nov 12 20:01:32 +0000 2014  Wed Nov 12 20:01:32 +0000 2014  \nWed Nov 12 12:41:32 +0000 2014  Wed Nov 12 12:41:32 +0000 2014  \nTue Nov 11 22:23:43 +0000 2014  Tue Nov 11 22:23:43 +0000 2014  \nTue Nov 11 22:17:01 +0000 2014  Tue Nov 11 22:17:01 +0000 2014  \n...                                                        ...  \nWed May 04 20:43:48 +0000 2011  Wed May 04 20:43:48 +0000 2011  \nSun Jan 09 20:16:48 +0000 2011  Sun Jan 09 20:16:48 +0000 2011  \nSun Jan 09 20:11:02 +0000 2011  Sun Jan 09 20:11:02 +0000 2011  \nSun Jan 09 20:06:57 +0000 2011  Sun Jan 09 20:06:57 +0000 2011  \nTue Mar 17 08:57:10 +0000 2009  Tue Mar 17 08:57:10 +0000 2009  \n\n[2518 rows x 3 columns]\n"
    }
   ],
   "source": [
    "print(select_user(24858289))"
   ]
  },
  {
   "cell_type": "code",
   "execution_count": 63,
   "metadata": {
    "tags": []
   },
   "outputs": [
    {
     "output_type": "stream",
     "name": "stdout",
     "text": "id   user_id              created_at\ncreated_at                                                                  \n12 20:14:48 +0000 2014  532627591686275072  24858289  12 20:14:48 +0000 2014\n12 20:01:32 +0000 2014  532624255058706432  24858289  12 20:01:32 +0000 2014\n12 12:41:32 +0000 2014  532513524460052480  24858289  12 12:41:32 +0000 2014\n11 22:23:43 +0000 2014  532297646669852672  24858289  11 22:23:43 +0000 2014\n11 22:17:01 +0000 2014  532295960807100416  24858289  11 22:17:01 +0000 2014\n...                                    ...       ...                     ...\n4 20:43:48 +0000 2011    65879319498588160  24858289   4 20:43:48 +0000 2011\n9 20:16:48 +0000 2011    24197918651064322  24858289   9 20:16:48 +0000 2011\n9 20:11:02 +0000 2011    24196468076183552  24858289   9 20:11:02 +0000 2011\n9 20:06:57 +0000 2011    24195441352507392  24858289   9 20:06:57 +0000 2011\n17 08:57:10 +0000 2009          1341215499  24858289  17 08:57:10 +0000 2009\n\n[2518 rows x 3 columns]\n"
    }
   ],
   "source": [
    "sample = select_user(24858289)\n",
    "\n",
    "sample[\"created_at\"] = sample[\"created_at\"].map(lambda x: x.lstrip(\"Mon Tue Wed Thu Fri Sat Sun Jan Feb Mar Apr May Jun Jul Aug Sep Oct Nov Dec\"))\n",
    "\n",
    "sample_2 = sample.set_index(\"created_at\", drop=False)\n",
    "\n",
    "print(sample_2)"
   ]
  },
  {
   "cell_type": "code",
   "execution_count": 47,
   "metadata": {
    "tags": []
   },
   "outputs": [
    {
     "output_type": "stream",
     "name": "stdout",
     "text": "id                                               text  \\\n0  532627591686275072   I Pooh - In silenzio 1968 http://t.co/ahvQxUqTws   \n1  532624255058706432                             http://t.co/HyI5EQKz6Q   \n2  532513524460052480  Tutti a tavola, con il filetto di baccalà. htt...   \n3  532297646669852672                             http://t.co/NAHQ4l2pUy   \n4  532295960807100416       Gold - Spandau Ballet http://t.co/o8ZJHt7Neu   \n\n                                              source   user_id  truncated  \\\n0  <a href=\"http://www.facebook.com/twitter\" rel=...  24858289        NaN   \n1  <a href=\"http://www.facebook.com/twitter\" rel=...  24858289        NaN   \n2  <a href=\"http://www.facebook.com/twitter\" rel=...  24858289        NaN   \n3  <a href=\"http://www.facebook.com/twitter\" rel=...  24858289        NaN   \n4  <a href=\"http://www.facebook.com/twitter\" rel=...  24858289        NaN   \n\n   in_reply_to_status_id  in_reply_to_user_id in_reply_to_screen_name  \\\n0                      0                    0                     NaN   \n1                      0                    0                     NaN   \n2                      0                    0                     NaN   \n3                      0                    0                     NaN   \n4                      0                    0                     NaN   \n\n   retweeted_status_id  geo  ... favorited  retweeted  possibly_sensitive  \\\n0                    0  NaN  ...       NaN        NaN                 NaN   \n1                    0  NaN  ...       NaN        NaN                 NaN   \n2                    0  NaN  ...       NaN        NaN                 NaN   \n3                    0  NaN  ...       NaN        NaN                 NaN   \n4                    0  NaN  ...       NaN        NaN                 NaN   \n\n   num_hashtags  num_urls  num_mentions                      created_at  \\\n0             0         1             0  Wed Nov 12 20:14:48 +0000 2014   \n1             0         1             0  Wed Nov 12 20:01:32 +0000 2014   \n2             0         1             0  Wed Nov 12 12:41:32 +0000 2014   \n3             0         1             0  Tue Nov 11 22:23:43 +0000 2014   \n4             0         1             0  Tue Nov 11 22:17:01 +0000 2014   \n\n             timestamp           crawled_at              updated  \n0  2014-11-12 21:14:48  2014-11-12 21:44:09  2014-11-12 21:44:09  \n1  2014-11-12 21:01:32  2014-11-12 21:44:09  2014-11-12 21:44:09  \n2  2014-11-12 13:41:32  2014-11-12 21:44:09  2014-11-12 21:44:09  \n3  2014-11-11 23:23:43  2014-11-12 21:44:09  2014-11-12 21:44:09  \n4  2014-11-11 23:17:01  2014-11-12 21:44:09  2014-11-12 21:44:09  \n\n[5 rows x 25 columns]\n"
    }
   ],
   "source": [
    "print(social_tweets.head())"
   ]
  },
  {
   "cell_type": "code",
   "execution_count": 48,
   "metadata": {
    "tags": []
   },
   "outputs": [
    {
     "output_type": "stream",
     "name": "stdout",
     "text": "(1610034, 25)\n"
    }
   ],
   "source": [
    "print(social_tweets.shape)"
   ]
  },
  {
   "cell_type": "code",
   "execution_count": 49,
   "metadata": {
    "tags": []
   },
   "outputs": [
    {
     "output_type": "stream",
     "name": "stdout",
     "text": "<class 'pandas.core.frame.DataFrame'>\nRangeIndex: 1610034 entries, 0 to 1610033\nData columns (total 25 columns):\n #   Column                   Non-Null Count    Dtype  \n---  ------                   --------------    -----  \n 0   id                       1610034 non-null  int64  \n 1   text                     1609944 non-null  object \n 2   source                   1610034 non-null  object \n 3   user_id                  1610034 non-null  int64  \n 4   truncated                0 non-null        float64\n 5   in_reply_to_status_id    1610034 non-null  int64  \n 6   in_reply_to_user_id      1610034 non-null  int64  \n 7   in_reply_to_screen_name  11593 non-null    object \n 8   retweeted_status_id      1610034 non-null  int64  \n 9   geo                      0 non-null        float64\n 10  place                    2912 non-null     object \n 11  contributors             0 non-null        float64\n 12  retweet_count            1610034 non-null  int64  \n 13  reply_count              1610034 non-null  int64  \n 14  favorite_count           1610034 non-null  int64  \n 15  favorited                0 non-null        float64\n 16  retweeted                0 non-null        float64\n 17  possibly_sensitive       6162 non-null     float64\n 18  num_hashtags             1610034 non-null  int64  \n 19  num_urls                 1610034 non-null  int64  \n 20  num_mentions             1610034 non-null  int64  \n 21  created_at               1610034 non-null  object \n 22  timestamp                1610034 non-null  object \n 23  crawled_at               1610034 non-null  object \n 24  updated                  1610034 non-null  object \ndtypes: float64(6), int64(11), object(8)\nmemory usage: 307.1+ MB\n"
    }
   ],
   "source": [
    "social_tweets.info()\n",
    "#90 tweets don't contain a text value (API error possible)"
   ]
  },
  {
   "cell_type": "code",
   "execution_count": 50,
   "metadata": {
    "tags": []
   },
   "outputs": [
    {
     "output_type": "stream",
     "name": "stdout",
     "text": "886             Chioggia, Venezia\n1856    Campo San Martino, Padova\n1857    Campo San Martino, Padova\n1858    Campo San Martino, Padova\n2133     Maserà di Padova, Padova\n2158     Noventa Padovana, Padova\n2239    Campo San Martino, Padova\n2288                       Padova\n2372              Venezia, Veneto\n2459     Maserà di Padova, Padova\nName: place, dtype: object\n(2912,)\n"
    }
   ],
   "source": [
    "#None of the bots seem to use geolocation\n",
    "test_social_tweets = social_tweets.place.dropna()\n",
    "\n",
    "print(test_social_tweets.head(10))\n",
    "print(test_social_tweets.shape)\n",
    "#Their seem to be places connected to 2912 of the tweets, which is weird since none of them are supposed to have gelocation enabled"
   ]
  },
  {
   "cell_type": "code",
   "execution_count": 51,
   "metadata": {
    "tags": []
   },
   "outputs": [
    {
     "output_type": "stream",
     "name": "stdout",
     "text": "114564.0\n7.11562612963453%\n"
    }
   ],
   "source": [
    "print(social_tweets.text.str.count(\"http\").sum())\n",
    "print(str((((social_tweets.text.str.count(\"http\").sum())/1610034)*100))+\"%\")\n",
    "#Roughly 7.1% of the social bots seem to use links in their tweets"
   ]
  },
  {
   "cell_type": "code",
   "execution_count": 52,
   "metadata": {
    "tags": []
   },
   "outputs": [
    {
     "output_type": "stream",
     "name": "stdout",
     "text": "<class 'pandas.core.frame.DataFrame'>\nRangeIndex: 145094 entries, 0 to 145093\nData columns (total 25 columns):\n #   Column                   Non-Null Count   Dtype  \n---  ------                   --------------   -----  \n 0   id                       145094 non-null  int64  \n 1   text                     145094 non-null  object \n 2   source                   145094 non-null  object \n 3   user_id                  145094 non-null  int64  \n 4   truncated                753 non-null     float64\n 5   in_reply_to_status_id    145094 non-null  int64  \n 6   in_reply_to_user_id      145094 non-null  int64  \n 7   in_reply_to_screen_name  11286 non-null   object \n 8   retweeted_status_id      145094 non-null  int64  \n 9   geo                      0 non-null       float64\n 10  place                    0 non-null       float64\n 11  contributors             0 non-null       float64\n 12  retweet_count            145094 non-null  int64  \n 13  reply_count              145094 non-null  int64  \n 14  favorite_count           145094 non-null  int64  \n 15  favorited                0 non-null       float64\n 16  retweeted                0 non-null       float64\n 17  possibly_sensitive       0 non-null       float64\n 18  num_hashtags             145094 non-null  int64  \n 19  num_urls                 145094 non-null  int64  \n 20  num_mentions             145094 non-null  int64  \n 21  created_at               145094 non-null  object \n 22  timestamp                145094 non-null  object \n 23  crawled_at               145094 non-null  object \n 24  updated                  145094 non-null  object \ndtypes: float64(7), int64(11), object(7)\nmemory usage: 27.7+ MB\n"
    }
   ],
   "source": [
    "traditional_tweets.info()\n",
    "#In this case place matches geo "
   ]
  },
  {
   "cell_type": "code",
   "execution_count": 53,
   "metadata": {
    "tags": []
   },
   "outputs": [
    {
     "output_type": "stream",
     "name": "stdout",
     "text": "89444\n61.6455539167712%\n"
    }
   ],
   "source": [
    "print(traditional_tweets.text.str.count(\"http\").sum())\n",
    "print(str((((traditional_tweets.text.str.count(\"http\").sum())/145094)*100))+\"%\")\n",
    "#Roughly 62% of the traditional bots posted links"
   ]
  },
  {
   "cell_type": "code",
   "execution_count": 54,
   "metadata": {
    "tags": []
   },
   "outputs": [
    {
     "output_type": "stream",
     "name": "stdout",
     "text": "<class 'pandas.core.frame.DataFrame'>\nRangeIndex: 2839362 entries, 0 to 2839361\nData columns (total 25 columns):\n #   Column                   Dtype  \n---  ------                   -----  \n 0   id                       object \n 1   text                     object \n 2   source                   object \n 3   user_id                  float64\n 4   truncated                float64\n 5   in_reply_to_status_id    float64\n 6   in_reply_to_user_id      float64\n 7   in_reply_to_screen_name  object \n 8   retweeted_status_id      float64\n 9   geo                      float64\n 10  place                    object \n 11  contributors             float64\n 12  retweet_count            float64\n 13  reply_count              float64\n 14  favorite_count           float64\n 15  favorited                float64\n 16  retweeted                float64\n 17  possibly_sensitive       float64\n 18  num_hashtags             float64\n 19  num_urls                 float64\n 20  num_mentions             float64\n 21  created_at               object \n 22  timestamp                object \n 23  crawled_at               object \n 24  updated                  object \ndtypes: float64(16), object(9)\nmemory usage: 541.6+ MB\n"
    }
   ],
   "source": [
    "genuine_tweets.info()\n",
    "#Why doesn't this present numbers?"
   ]
  },
  {
   "cell_type": "code",
   "execution_count": 55,
   "metadata": {
    "tags": []
   },
   "outputs": [
    {
     "output_type": "stream",
     "name": "stdout",
     "text": "id                                               text  \\\n0  593932392663912449  RT @morningJewshow: Speaking about Jews and co...   \n1  593895316719423488  This age/face recognition thing..no reason pla...   \n2  593880638069018624  Only upside of the moment I can think of is th...   \n3  593847955536252928  If you're going to think about+create experien...   \n4  593847687847350272  Watching a thread on FB about possible future ...   \n5  593819412660101121                 Don't. Ok? https://t.co/uTXrJ6zvdN   \n6  593814612820119552  RT @SanFranciscoBA: #enoughsenough \"Surprise! ...   \n7  593750651449905152  RT @thepatrickwalsh: Kriss Kross once rapped \"...   \n8  593750427792867329  RT @TheAtlanticPOL: Watch Baltimore native @ta...   \n9  593742580774371329  @thelancearthur @hotdogsladies I didn't realiz...   \n\n                                              source   user_id  truncated  \\\n0  <a href=\"http://tapbots.com/tweetbot\" rel=\"nof...  678033.0        NaN   \n1  <a href=\"http://twitter.com\" rel=\"nofollow\">Tw...  678033.0        NaN   \n2  <a href=\"http://twitter.com\" rel=\"nofollow\">Tw...  678033.0        NaN   \n3  <a href=\"http://tapbots.com/tweetbot\" rel=\"nof...  678033.0        NaN   \n4  <a href=\"http://tapbots.com/tweetbot\" rel=\"nof...  678033.0        NaN   \n5  <a href=\"http://instagram.com\" rel=\"nofollow\">...  678033.0        NaN   \n6  <a href=\"http://tapbots.com/tweetbot\" rel=\"nof...  678033.0        NaN   \n7  <a href=\"http://tapbots.com/tweetbot\" rel=\"nof...  678033.0        NaN   \n8  <a href=\"http://tapbots.com/tweetbot\" rel=\"nof...  678033.0        NaN   \n9  <a href=\"http://tapbots.com/tweetbot\" rel=\"nof...  678033.0        NaN   \n\n   in_reply_to_status_id  in_reply_to_user_id in_reply_to_screen_name  \\\n0           0.000000e+00                  0.0                     NaN   \n1           0.000000e+00                  0.0                     NaN   \n2           0.000000e+00                  0.0                     NaN   \n3           0.000000e+00                  0.0                     NaN   \n4           0.000000e+00                  0.0                     NaN   \n5           0.000000e+00                  0.0                     NaN   \n6           0.000000e+00                  0.0                     NaN   \n7           0.000000e+00                  0.0                     NaN   \n8           0.000000e+00                  0.0                     NaN   \n9           5.936419e+17          143569237.0          thelancearthur   \n\n   retweeted_status_id  geo  ... favorited  retweeted  possibly_sensitive  \\\n0         5.939322e+17  NaN  ...       NaN        NaN                 NaN   \n1         0.000000e+00  NaN  ...       NaN        NaN                 NaN   \n2         0.000000e+00  NaN  ...       NaN        NaN                 NaN   \n3         0.000000e+00  NaN  ...       NaN        NaN                 NaN   \n4         0.000000e+00  NaN  ...       NaN        NaN                 NaN   \n5         0.000000e+00  NaN  ...       NaN        NaN                 NaN   \n6         5.938086e+17  NaN  ...       NaN        NaN                 NaN   \n7         5.936634e+17  NaN  ...       NaN        NaN                 NaN   \n8         5.937349e+17  NaN  ...       NaN        NaN                 NaN   \n9         0.000000e+00  NaN  ...       NaN        NaN                 NaN   \n\n   num_hashtags  num_urls  num_mentions                      created_at  \\\n0           0.0       0.0           1.0  Fri May 01 00:18:11 +0000 2015   \n1           0.0       0.0           0.0  Thu Apr 30 21:50:52 +0000 2015   \n2           2.0       0.0           0.0  Thu Apr 30 20:52:32 +0000 2015   \n3           2.0       0.0           0.0  Thu Apr 30 18:42:40 +0000 2015   \n4           0.0       0.0           0.0  Thu Apr 30 18:41:36 +0000 2015   \n5           0.0       1.0           0.0  Thu Apr 30 16:49:15 +0000 2015   \n6           1.0       1.0           1.0  Thu Apr 30 16:30:10 +0000 2015   \n7           0.0       0.0           1.0  Thu Apr 30 12:16:01 +0000 2015   \n8           0.0       1.0           3.0  Thu Apr 30 12:15:07 +0000 2015   \n9           0.0       0.0           2.0  Thu Apr 30 11:43:57 +0000 2015   \n\n             timestamp           crawled_at              updated  \n0  2015-05-01 02:18:11  2015-05-01 12:57:19  2015-05-01 12:57:19  \n1  2015-04-30 23:50:52  2015-05-01 12:57:19  2015-05-01 12:57:19  \n2  2015-04-30 22:52:32  2015-05-01 12:57:19  2015-05-01 12:57:19  \n3  2015-04-30 20:42:40  2015-05-01 12:57:19  2015-05-01 12:57:19  \n4  2015-04-30 20:41:36  2015-05-01 12:57:19  2015-05-01 12:57:19  \n5  2015-04-30 18:49:15  2015-05-01 12:57:19  2015-05-01 12:57:19  \n6  2015-04-30 18:30:10  2015-05-01 12:57:19  2015-05-01 12:57:19  \n7  2015-04-30 14:16:01  2015-05-01 12:57:19  2015-05-01 12:57:19  \n8  2015-04-30 14:15:07  2015-05-01 12:57:19  2015-05-01 12:57:19  \n9  2015-04-30 13:43:57  2015-05-01 12:57:19  2015-05-01 12:57:19  \n\n[10 rows x 25 columns]\n"
    }
   ],
   "source": [
    "print(genuine_tweets.head(10))"
   ]
  },
  {
   "cell_type": "code",
   "execution_count": 56,
   "metadata": {
    "tags": []
   },
   "outputs": [
    {
     "output_type": "stream",
     "name": "stdout",
     "text": "757878.0\n26.691850736838322%\n"
    }
   ],
   "source": [
    "print(genuine_tweets.text.str.count(\"http\").sum())\n",
    "print(str((((genuine_tweets.text.str.count(\"http\").sum())/2839361)*100))+\"%\")\n",
    "#About 27% of actual users are posting links"
   ]
  },
  {
   "cell_type": "code",
   "execution_count": 57,
   "metadata": {
    "tags": []
   },
   "outputs": [
    {
     "output_type": "stream",
     "name": "stdout",
     "text": "0.0\n"
    }
   ],
   "source": [
    "geo_genuine_tweets = genuine_tweets.geo.dropna()\n",
    "print(geo_genuine_tweets.sum())\n",
    "#none of the genuine accounts used geolocation either (seems weird)"
   ]
  },
  {
   "cell_type": "code",
   "execution_count": 58,
   "metadata": {
    "tags": []
   },
   "outputs": [
    {
     "output_type": "stream",
     "name": "stdout",
     "text": "Hashtags Social: 153530\nHashtags Traditional: 20351\nHashtags Genuine: 703290.0\n"
    }
   ],
   "source": [
    "print(\"Hashtags Social: \"+str(social_tweets.num_hashtags.sum()))\n",
    "print(\"Hashtags Traditional: \"+str(traditional_tweets.num_hashtags.sum()))\n",
    "print(\"Hashtags Genuine: \"+str(genuine_tweets.num_hashtags.sum()))\n",
    "\n",
    "#Use of Hashtags might be an indicator to detect a genuine account"
   ]
  },
  {
   "cell_type": "code",
   "execution_count": 59,
   "metadata": {
    "tags": []
   },
   "outputs": [
    {
     "output_type": "stream",
     "name": "stdout",
     "text": "0.029584110796721234%\n0.048244586268212326%\n6.211048959214525e-05%\n"
    },
    {
     "output_type": "execute_result",
     "data": {
      "text/plain": "<function matplotlib.pyplot.show(*args, **kw)>"
     },
     "metadata": {},
     "execution_count": 59
    },
    {
     "output_type": "display_data",
     "data": {
      "text/plain": "<Figure size 432x288 with 1 Axes>",
      "image/svg+xml": "<?xml version=\"1.0\" encoding=\"utf-8\" standalone=\"no\"?>\r\n<!DOCTYPE svg PUBLIC \"-//W3C//DTD SVG 1.1//EN\"\r\n  \"http://www.w3.org/Graphics/SVG/1.1/DTD/svg11.dtd\">\r\n<!-- Created with matplotlib (https://matplotlib.org/) -->\r\n<svg height=\"249.49802pt\" version=\"1.1\" viewBox=\"0 0 378.465625 249.49802\" width=\"378.465625pt\" xmlns=\"http://www.w3.org/2000/svg\" xmlns:xlink=\"http://www.w3.org/1999/xlink\">\r\n <defs>\r\n  <style type=\"text/css\">\r\n*{stroke-linecap:butt;stroke-linejoin:round;}\r\n  </style>\r\n </defs>\r\n <g id=\"figure_1\">\r\n  <g id=\"patch_1\">\r\n   <path d=\"M 0 249.49802 \r\nL 378.465625 249.49802 \r\nL 378.465625 0 \r\nL 0 0 \r\nz\r\n\" style=\"fill:none;\"/>\r\n  </g>\r\n  <g id=\"axes_1\">\r\n   <g id=\"patch_2\">\r\n    <path d=\"M 36.465625 225.619895 \r\nL 371.265625 225.619895 \r\nL 371.265625 8.179895 \r\nL 36.465625 8.179895 \r\nz\r\n\" style=\"fill:#ffffff;\"/>\r\n   </g>\r\n   <g id=\"patch_3\">\r\n    <path clip-path=\"url(#pdee5746ebf)\" d=\"M 51.683807 225.619895 \r\nL 138.644846 225.619895 \r\nL 138.644846 98.632658 \r\nL 51.683807 98.632658 \r\nz\r\n\" style=\"fill:#1f77b4;\"/>\r\n   </g>\r\n   <g id=\"patch_4\">\r\n    <path clip-path=\"url(#pdee5746ebf)\" d=\"M 160.385106 225.619895 \r\nL 247.346144 225.619895 \r\nL 247.346144 18.53418 \r\nL 160.385106 18.53418 \r\nz\r\n\" style=\"fill:#1f77b4;\"/>\r\n   </g>\r\n   <g id=\"patch_5\">\r\n    <path clip-path=\"url(#pdee5746ebf)\" d=\"M 269.086404 225.619895 \r\nL 356.047443 225.619895 \r\nL 356.047443 225.353291 \r\nL 269.086404 225.353291 \r\nz\r\n\" style=\"fill:#1f77b4;\"/>\r\n   </g>\r\n   <g id=\"matplotlib.axis_1\">\r\n    <g id=\"xtick_1\">\r\n     <g id=\"line2d_1\">\r\n      <defs>\r\n       <path d=\"M 0 0 \r\nL 0 3.5 \r\n\" id=\"ma0768fcf58\" style=\"stroke:#000000;stroke-width:0.8;\"/>\r\n      </defs>\r\n      <g>\r\n       <use style=\"stroke:#000000;stroke-width:0.8;\" x=\"95.164326\" xlink:href=\"#ma0768fcf58\" y=\"225.619895\"/>\r\n      </g>\r\n     </g>\r\n     <g id=\"text_1\">\r\n      <!-- Genuine Account -->\r\n      <defs>\r\n       <path d=\"M 59.515625 10.40625 \r\nL 59.515625 29.984375 \r\nL 43.40625 29.984375 \r\nL 43.40625 38.09375 \r\nL 69.28125 38.09375 \r\nL 69.28125 6.78125 \r\nQ 63.578125 2.734375 56.6875 0.65625 \r\nQ 49.8125 -1.421875 42 -1.421875 \r\nQ 24.90625 -1.421875 15.25 8.5625 \r\nQ 5.609375 18.5625 5.609375 36.375 \r\nQ 5.609375 54.25 15.25 64.234375 \r\nQ 24.90625 74.21875 42 74.21875 \r\nQ 49.125 74.21875 55.546875 72.453125 \r\nQ 61.96875 70.703125 67.390625 67.28125 \r\nL 67.390625 56.78125 \r\nQ 61.921875 61.421875 55.765625 63.765625 \r\nQ 49.609375 66.109375 42.828125 66.109375 \r\nQ 29.4375 66.109375 22.71875 58.640625 \r\nQ 16.015625 51.171875 16.015625 36.375 \r\nQ 16.015625 21.625 22.71875 14.15625 \r\nQ 29.4375 6.6875 42.828125 6.6875 \r\nQ 48.046875 6.6875 52.140625 7.59375 \r\nQ 56.25 8.5 59.515625 10.40625 \r\nz\r\n\" id=\"DejaVuSans-71\"/>\r\n       <path d=\"M 56.203125 29.59375 \r\nL 56.203125 25.203125 \r\nL 14.890625 25.203125 \r\nQ 15.484375 15.921875 20.484375 11.0625 \r\nQ 25.484375 6.203125 34.421875 6.203125 \r\nQ 39.59375 6.203125 44.453125 7.46875 \r\nQ 49.3125 8.734375 54.109375 11.28125 \r\nL 54.109375 2.78125 \r\nQ 49.265625 0.734375 44.1875 -0.34375 \r\nQ 39.109375 -1.421875 33.890625 -1.421875 \r\nQ 20.796875 -1.421875 13.15625 6.1875 \r\nQ 5.515625 13.8125 5.515625 26.8125 \r\nQ 5.515625 40.234375 12.765625 48.109375 \r\nQ 20.015625 56 32.328125 56 \r\nQ 43.359375 56 49.78125 48.890625 \r\nQ 56.203125 41.796875 56.203125 29.59375 \r\nz\r\nM 47.21875 32.234375 \r\nQ 47.125 39.59375 43.09375 43.984375 \r\nQ 39.0625 48.390625 32.421875 48.390625 \r\nQ 24.90625 48.390625 20.390625 44.140625 \r\nQ 15.875 39.890625 15.1875 32.171875 \r\nz\r\n\" id=\"DejaVuSans-101\"/>\r\n       <path d=\"M 54.890625 33.015625 \r\nL 54.890625 0 \r\nL 45.90625 0 \r\nL 45.90625 32.71875 \r\nQ 45.90625 40.484375 42.875 44.328125 \r\nQ 39.84375 48.1875 33.796875 48.1875 \r\nQ 26.515625 48.1875 22.3125 43.546875 \r\nQ 18.109375 38.921875 18.109375 30.90625 \r\nL 18.109375 0 \r\nL 9.078125 0 \r\nL 9.078125 54.6875 \r\nL 18.109375 54.6875 \r\nL 18.109375 46.1875 \r\nQ 21.34375 51.125 25.703125 53.5625 \r\nQ 30.078125 56 35.796875 56 \r\nQ 45.21875 56 50.046875 50.171875 \r\nQ 54.890625 44.34375 54.890625 33.015625 \r\nz\r\n\" id=\"DejaVuSans-110\"/>\r\n       <path d=\"M 8.5 21.578125 \r\nL 8.5 54.6875 \r\nL 17.484375 54.6875 \r\nL 17.484375 21.921875 \r\nQ 17.484375 14.15625 20.5 10.265625 \r\nQ 23.53125 6.390625 29.59375 6.390625 \r\nQ 36.859375 6.390625 41.078125 11.03125 \r\nQ 45.3125 15.671875 45.3125 23.6875 \r\nL 45.3125 54.6875 \r\nL 54.296875 54.6875 \r\nL 54.296875 0 \r\nL 45.3125 0 \r\nL 45.3125 8.40625 \r\nQ 42.046875 3.421875 37.71875 1 \r\nQ 33.40625 -1.421875 27.6875 -1.421875 \r\nQ 18.265625 -1.421875 13.375 4.4375 \r\nQ 8.5 10.296875 8.5 21.578125 \r\nz\r\nM 31.109375 56 \r\nz\r\n\" id=\"DejaVuSans-117\"/>\r\n       <path d=\"M 9.421875 54.6875 \r\nL 18.40625 54.6875 \r\nL 18.40625 0 \r\nL 9.421875 0 \r\nz\r\nM 9.421875 75.984375 \r\nL 18.40625 75.984375 \r\nL 18.40625 64.59375 \r\nL 9.421875 64.59375 \r\nz\r\n\" id=\"DejaVuSans-105\"/>\r\n       <path id=\"DejaVuSans-32\"/>\r\n       <path d=\"M 34.1875 63.1875 \r\nL 20.796875 26.90625 \r\nL 47.609375 26.90625 \r\nz\r\nM 28.609375 72.90625 \r\nL 39.796875 72.90625 \r\nL 67.578125 0 \r\nL 57.328125 0 \r\nL 50.6875 18.703125 \r\nL 17.828125 18.703125 \r\nL 11.1875 0 \r\nL 0.78125 0 \r\nz\r\n\" id=\"DejaVuSans-65\"/>\r\n       <path d=\"M 48.78125 52.59375 \r\nL 48.78125 44.1875 \r\nQ 44.96875 46.296875 41.140625 47.34375 \r\nQ 37.3125 48.390625 33.40625 48.390625 \r\nQ 24.65625 48.390625 19.8125 42.84375 \r\nQ 14.984375 37.3125 14.984375 27.296875 \r\nQ 14.984375 17.28125 19.8125 11.734375 \r\nQ 24.65625 6.203125 33.40625 6.203125 \r\nQ 37.3125 6.203125 41.140625 7.25 \r\nQ 44.96875 8.296875 48.78125 10.40625 \r\nL 48.78125 2.09375 \r\nQ 45.015625 0.34375 40.984375 -0.53125 \r\nQ 36.96875 -1.421875 32.421875 -1.421875 \r\nQ 20.0625 -1.421875 12.78125 6.34375 \r\nQ 5.515625 14.109375 5.515625 27.296875 \r\nQ 5.515625 40.671875 12.859375 48.328125 \r\nQ 20.21875 56 33.015625 56 \r\nQ 37.15625 56 41.109375 55.140625 \r\nQ 45.0625 54.296875 48.78125 52.59375 \r\nz\r\n\" id=\"DejaVuSans-99\"/>\r\n       <path d=\"M 30.609375 48.390625 \r\nQ 23.390625 48.390625 19.1875 42.75 \r\nQ 14.984375 37.109375 14.984375 27.296875 \r\nQ 14.984375 17.484375 19.15625 11.84375 \r\nQ 23.34375 6.203125 30.609375 6.203125 \r\nQ 37.796875 6.203125 41.984375 11.859375 \r\nQ 46.1875 17.53125 46.1875 27.296875 \r\nQ 46.1875 37.015625 41.984375 42.703125 \r\nQ 37.796875 48.390625 30.609375 48.390625 \r\nz\r\nM 30.609375 56 \r\nQ 42.328125 56 49.015625 48.375 \r\nQ 55.71875 40.765625 55.71875 27.296875 \r\nQ 55.71875 13.875 49.015625 6.21875 \r\nQ 42.328125 -1.421875 30.609375 -1.421875 \r\nQ 18.84375 -1.421875 12.171875 6.21875 \r\nQ 5.515625 13.875 5.515625 27.296875 \r\nQ 5.515625 40.765625 12.171875 48.375 \r\nQ 18.84375 56 30.609375 56 \r\nz\r\n\" id=\"DejaVuSans-111\"/>\r\n       <path d=\"M 18.3125 70.21875 \r\nL 18.3125 54.6875 \r\nL 36.8125 54.6875 \r\nL 36.8125 47.703125 \r\nL 18.3125 47.703125 \r\nL 18.3125 18.015625 \r\nQ 18.3125 11.328125 20.140625 9.421875 \r\nQ 21.96875 7.515625 27.59375 7.515625 \r\nL 36.8125 7.515625 \r\nL 36.8125 0 \r\nL 27.59375 0 \r\nQ 17.1875 0 13.234375 3.875 \r\nQ 9.28125 7.765625 9.28125 18.015625 \r\nL 9.28125 47.703125 \r\nL 2.6875 47.703125 \r\nL 2.6875 54.6875 \r\nL 9.28125 54.6875 \r\nL 9.28125 70.21875 \r\nz\r\n\" id=\"DejaVuSans-116\"/>\r\n      </defs>\r\n      <g transform=\"translate(52.464326 240.218332)scale(0.1 -0.1)\">\r\n       <use xlink:href=\"#DejaVuSans-71\"/>\r\n       <use x=\"77.490234\" xlink:href=\"#DejaVuSans-101\"/>\r\n       <use x=\"139.013672\" xlink:href=\"#DejaVuSans-110\"/>\r\n       <use x=\"202.392578\" xlink:href=\"#DejaVuSans-117\"/>\r\n       <use x=\"265.771484\" xlink:href=\"#DejaVuSans-105\"/>\r\n       <use x=\"293.554688\" xlink:href=\"#DejaVuSans-110\"/>\r\n       <use x=\"356.933594\" xlink:href=\"#DejaVuSans-101\"/>\r\n       <use x=\"418.457031\" xlink:href=\"#DejaVuSans-32\"/>\r\n       <use x=\"450.244141\" xlink:href=\"#DejaVuSans-65\"/>\r\n       <use x=\"516.902344\" xlink:href=\"#DejaVuSans-99\"/>\r\n       <use x=\"571.882812\" xlink:href=\"#DejaVuSans-99\"/>\r\n       <use x=\"626.863281\" xlink:href=\"#DejaVuSans-111\"/>\r\n       <use x=\"688.044922\" xlink:href=\"#DejaVuSans-117\"/>\r\n       <use x=\"751.423828\" xlink:href=\"#DejaVuSans-110\"/>\r\n       <use x=\"814.802734\" xlink:href=\"#DejaVuSans-116\"/>\r\n      </g>\r\n     </g>\r\n    </g>\r\n    <g id=\"xtick_2\">\r\n     <g id=\"line2d_2\">\r\n      <g>\r\n       <use style=\"stroke:#000000;stroke-width:0.8;\" x=\"203.865625\" xlink:href=\"#ma0768fcf58\" y=\"225.619895\"/>\r\n      </g>\r\n     </g>\r\n     <g id=\"text_2\">\r\n      <!-- Traditional Bot -->\r\n      <defs>\r\n       <path d=\"M -0.296875 72.90625 \r\nL 61.375 72.90625 \r\nL 61.375 64.59375 \r\nL 35.5 64.59375 \r\nL 35.5 0 \r\nL 25.59375 0 \r\nL 25.59375 64.59375 \r\nL -0.296875 64.59375 \r\nz\r\n\" id=\"DejaVuSans-84\"/>\r\n       <path d=\"M 41.109375 46.296875 \r\nQ 39.59375 47.171875 37.8125 47.578125 \r\nQ 36.03125 48 33.890625 48 \r\nQ 26.265625 48 22.1875 43.046875 \r\nQ 18.109375 38.09375 18.109375 28.8125 \r\nL 18.109375 0 \r\nL 9.078125 0 \r\nL 9.078125 54.6875 \r\nL 18.109375 54.6875 \r\nL 18.109375 46.1875 \r\nQ 20.953125 51.171875 25.484375 53.578125 \r\nQ 30.03125 56 36.53125 56 \r\nQ 37.453125 56 38.578125 55.875 \r\nQ 39.703125 55.765625 41.0625 55.515625 \r\nz\r\n\" id=\"DejaVuSans-114\"/>\r\n       <path d=\"M 34.28125 27.484375 \r\nQ 23.390625 27.484375 19.1875 25 \r\nQ 14.984375 22.515625 14.984375 16.5 \r\nQ 14.984375 11.71875 18.140625 8.90625 \r\nQ 21.296875 6.109375 26.703125 6.109375 \r\nQ 34.1875 6.109375 38.703125 11.40625 \r\nQ 43.21875 16.703125 43.21875 25.484375 \r\nL 43.21875 27.484375 \r\nz\r\nM 52.203125 31.203125 \r\nL 52.203125 0 \r\nL 43.21875 0 \r\nL 43.21875 8.296875 \r\nQ 40.140625 3.328125 35.546875 0.953125 \r\nQ 30.953125 -1.421875 24.3125 -1.421875 \r\nQ 15.921875 -1.421875 10.953125 3.296875 \r\nQ 6 8.015625 6 15.921875 \r\nQ 6 25.140625 12.171875 29.828125 \r\nQ 18.359375 34.515625 30.609375 34.515625 \r\nL 43.21875 34.515625 \r\nL 43.21875 35.40625 \r\nQ 43.21875 41.609375 39.140625 45 \r\nQ 35.0625 48.390625 27.6875 48.390625 \r\nQ 23 48.390625 18.546875 47.265625 \r\nQ 14.109375 46.140625 10.015625 43.890625 \r\nL 10.015625 52.203125 \r\nQ 14.9375 54.109375 19.578125 55.046875 \r\nQ 24.21875 56 28.609375 56 \r\nQ 40.484375 56 46.34375 49.84375 \r\nQ 52.203125 43.703125 52.203125 31.203125 \r\nz\r\n\" id=\"DejaVuSans-97\"/>\r\n       <path d=\"M 45.40625 46.390625 \r\nL 45.40625 75.984375 \r\nL 54.390625 75.984375 \r\nL 54.390625 0 \r\nL 45.40625 0 \r\nL 45.40625 8.203125 \r\nQ 42.578125 3.328125 38.25 0.953125 \r\nQ 33.9375 -1.421875 27.875 -1.421875 \r\nQ 17.96875 -1.421875 11.734375 6.484375 \r\nQ 5.515625 14.40625 5.515625 27.296875 \r\nQ 5.515625 40.1875 11.734375 48.09375 \r\nQ 17.96875 56 27.875 56 \r\nQ 33.9375 56 38.25 53.625 \r\nQ 42.578125 51.265625 45.40625 46.390625 \r\nz\r\nM 14.796875 27.296875 \r\nQ 14.796875 17.390625 18.875 11.75 \r\nQ 22.953125 6.109375 30.078125 6.109375 \r\nQ 37.203125 6.109375 41.296875 11.75 \r\nQ 45.40625 17.390625 45.40625 27.296875 \r\nQ 45.40625 37.203125 41.296875 42.84375 \r\nQ 37.203125 48.484375 30.078125 48.484375 \r\nQ 22.953125 48.484375 18.875 42.84375 \r\nQ 14.796875 37.203125 14.796875 27.296875 \r\nz\r\n\" id=\"DejaVuSans-100\"/>\r\n       <path d=\"M 9.421875 75.984375 \r\nL 18.40625 75.984375 \r\nL 18.40625 0 \r\nL 9.421875 0 \r\nz\r\n\" id=\"DejaVuSans-108\"/>\r\n       <path d=\"M 19.671875 34.8125 \r\nL 19.671875 8.109375 \r\nL 35.5 8.109375 \r\nQ 43.453125 8.109375 47.28125 11.40625 \r\nQ 51.125 14.703125 51.125 21.484375 \r\nQ 51.125 28.328125 47.28125 31.5625 \r\nQ 43.453125 34.8125 35.5 34.8125 \r\nz\r\nM 19.671875 64.796875 \r\nL 19.671875 42.828125 \r\nL 34.28125 42.828125 \r\nQ 41.5 42.828125 45.03125 45.53125 \r\nQ 48.578125 48.25 48.578125 53.8125 \r\nQ 48.578125 59.328125 45.03125 62.0625 \r\nQ 41.5 64.796875 34.28125 64.796875 \r\nz\r\nM 9.8125 72.90625 \r\nL 35.015625 72.90625 \r\nQ 46.296875 72.90625 52.390625 68.21875 \r\nQ 58.5 63.53125 58.5 54.890625 \r\nQ 58.5 48.1875 55.375 44.234375 \r\nQ 52.25 40.28125 46.1875 39.3125 \r\nQ 53.46875 37.75 57.5 32.78125 \r\nQ 61.53125 27.828125 61.53125 20.40625 \r\nQ 61.53125 10.640625 54.890625 5.3125 \r\nQ 48.25 0 35.984375 0 \r\nL 9.8125 0 \r\nz\r\n\" id=\"DejaVuSans-66\"/>\r\n      </defs>\r\n      <g transform=\"translate(167.796875 240.218332)scale(0.1 -0.1)\">\r\n       <use xlink:href=\"#DejaVuSans-84\"/>\r\n       <use x=\"46.333984\" xlink:href=\"#DejaVuSans-114\"/>\r\n       <use x=\"87.447266\" xlink:href=\"#DejaVuSans-97\"/>\r\n       <use x=\"148.726562\" xlink:href=\"#DejaVuSans-100\"/>\r\n       <use x=\"212.203125\" xlink:href=\"#DejaVuSans-105\"/>\r\n       <use x=\"239.986328\" xlink:href=\"#DejaVuSans-116\"/>\r\n       <use x=\"279.195312\" xlink:href=\"#DejaVuSans-105\"/>\r\n       <use x=\"306.978516\" xlink:href=\"#DejaVuSans-111\"/>\r\n       <use x=\"368.160156\" xlink:href=\"#DejaVuSans-110\"/>\r\n       <use x=\"431.539062\" xlink:href=\"#DejaVuSans-97\"/>\r\n       <use x=\"492.818359\" xlink:href=\"#DejaVuSans-108\"/>\r\n       <use x=\"520.601562\" xlink:href=\"#DejaVuSans-32\"/>\r\n       <use x=\"552.388672\" xlink:href=\"#DejaVuSans-66\"/>\r\n       <use x=\"620.992188\" xlink:href=\"#DejaVuSans-111\"/>\r\n       <use x=\"682.173828\" xlink:href=\"#DejaVuSans-116\"/>\r\n      </g>\r\n     </g>\r\n    </g>\r\n    <g id=\"xtick_3\">\r\n     <g id=\"line2d_3\">\r\n      <g>\r\n       <use style=\"stroke:#000000;stroke-width:0.8;\" x=\"312.566924\" xlink:href=\"#ma0768fcf58\" y=\"225.619895\"/>\r\n      </g>\r\n     </g>\r\n     <g id=\"text_3\">\r\n      <!-- Social Bot -->\r\n      <defs>\r\n       <path d=\"M 53.515625 70.515625 \r\nL 53.515625 60.890625 \r\nQ 47.90625 63.578125 42.921875 64.890625 \r\nQ 37.9375 66.21875 33.296875 66.21875 \r\nQ 25.25 66.21875 20.875 63.09375 \r\nQ 16.5 59.96875 16.5 54.203125 \r\nQ 16.5 49.359375 19.40625 46.890625 \r\nQ 22.3125 44.4375 30.421875 42.921875 \r\nL 36.375 41.703125 \r\nQ 47.40625 39.59375 52.65625 34.296875 \r\nQ 57.90625 29 57.90625 20.125 \r\nQ 57.90625 9.515625 50.796875 4.046875 \r\nQ 43.703125 -1.421875 29.984375 -1.421875 \r\nQ 24.8125 -1.421875 18.96875 -0.25 \r\nQ 13.140625 0.921875 6.890625 3.21875 \r\nL 6.890625 13.375 \r\nQ 12.890625 10.015625 18.65625 8.296875 \r\nQ 24.421875 6.59375 29.984375 6.59375 \r\nQ 38.421875 6.59375 43.015625 9.90625 \r\nQ 47.609375 13.234375 47.609375 19.390625 \r\nQ 47.609375 24.75 44.3125 27.78125 \r\nQ 41.015625 30.8125 33.5 32.328125 \r\nL 27.484375 33.5 \r\nQ 16.453125 35.6875 11.515625 40.375 \r\nQ 6.59375 45.0625 6.59375 53.421875 \r\nQ 6.59375 63.09375 13.40625 68.65625 \r\nQ 20.21875 74.21875 32.171875 74.21875 \r\nQ 37.3125 74.21875 42.625 73.28125 \r\nQ 47.953125 72.359375 53.515625 70.515625 \r\nz\r\n\" id=\"DejaVuSans-83\"/>\r\n      </defs>\r\n      <g transform=\"translate(287.702861 240.218332)scale(0.1 -0.1)\">\r\n       <use xlink:href=\"#DejaVuSans-83\"/>\r\n       <use x=\"63.476562\" xlink:href=\"#DejaVuSans-111\"/>\r\n       <use x=\"124.658203\" xlink:href=\"#DejaVuSans-99\"/>\r\n       <use x=\"179.638672\" xlink:href=\"#DejaVuSans-105\"/>\r\n       <use x=\"207.421875\" xlink:href=\"#DejaVuSans-97\"/>\r\n       <use x=\"268.701172\" xlink:href=\"#DejaVuSans-108\"/>\r\n       <use x=\"296.484375\" xlink:href=\"#DejaVuSans-32\"/>\r\n       <use x=\"328.271484\" xlink:href=\"#DejaVuSans-66\"/>\r\n       <use x=\"396.875\" xlink:href=\"#DejaVuSans-111\"/>\r\n       <use x=\"458.056641\" xlink:href=\"#DejaVuSans-116\"/>\r\n      </g>\r\n     </g>\r\n    </g>\r\n   </g>\r\n   <g id=\"matplotlib.axis_2\">\r\n    <g id=\"ytick_1\">\r\n     <g id=\"line2d_4\">\r\n      <defs>\r\n       <path d=\"M 0 0 \r\nL -3.5 0 \r\n\" id=\"md6ea0faccd\" style=\"stroke:#000000;stroke-width:0.8;\"/>\r\n      </defs>\r\n      <g>\r\n       <use style=\"stroke:#000000;stroke-width:0.8;\" x=\"36.465625\" xlink:href=\"#md6ea0faccd\" y=\"225.619895\"/>\r\n      </g>\r\n     </g>\r\n     <g id=\"text_4\">\r\n      <!-- 0.00 -->\r\n      <defs>\r\n       <path d=\"M 31.78125 66.40625 \r\nQ 24.171875 66.40625 20.328125 58.90625 \r\nQ 16.5 51.421875 16.5 36.375 \r\nQ 16.5 21.390625 20.328125 13.890625 \r\nQ 24.171875 6.390625 31.78125 6.390625 \r\nQ 39.453125 6.390625 43.28125 13.890625 \r\nQ 47.125 21.390625 47.125 36.375 \r\nQ 47.125 51.421875 43.28125 58.90625 \r\nQ 39.453125 66.40625 31.78125 66.40625 \r\nz\r\nM 31.78125 74.21875 \r\nQ 44.046875 74.21875 50.515625 64.515625 \r\nQ 56.984375 54.828125 56.984375 36.375 \r\nQ 56.984375 17.96875 50.515625 8.265625 \r\nQ 44.046875 -1.421875 31.78125 -1.421875 \r\nQ 19.53125 -1.421875 13.0625 8.265625 \r\nQ 6.59375 17.96875 6.59375 36.375 \r\nQ 6.59375 54.828125 13.0625 64.515625 \r\nQ 19.53125 74.21875 31.78125 74.21875 \r\nz\r\n\" id=\"DejaVuSans-48\"/>\r\n       <path d=\"M 10.6875 12.40625 \r\nL 21 12.40625 \r\nL 21 0 \r\nL 10.6875 0 \r\nz\r\n\" id=\"DejaVuSans-46\"/>\r\n      </defs>\r\n      <g transform=\"translate(7.2 229.419113)scale(0.1 -0.1)\">\r\n       <use xlink:href=\"#DejaVuSans-48\"/>\r\n       <use x=\"63.623047\" xlink:href=\"#DejaVuSans-46\"/>\r\n       <use x=\"95.410156\" xlink:href=\"#DejaVuSans-48\"/>\r\n       <use x=\"159.033203\" xlink:href=\"#DejaVuSans-48\"/>\r\n      </g>\r\n     </g>\r\n    </g>\r\n    <g id=\"ytick_2\">\r\n     <g id=\"line2d_5\">\r\n      <g>\r\n       <use style=\"stroke:#000000;stroke-width:0.8;\" x=\"36.465625\" xlink:href=\"#md6ea0faccd\" y=\"182.695759\"/>\r\n      </g>\r\n     </g>\r\n     <g id=\"text_5\">\r\n      <!-- 0.01 -->\r\n      <defs>\r\n       <path d=\"M 12.40625 8.296875 \r\nL 28.515625 8.296875 \r\nL 28.515625 63.921875 \r\nL 10.984375 60.40625 \r\nL 10.984375 69.390625 \r\nL 28.421875 72.90625 \r\nL 38.28125 72.90625 \r\nL 38.28125 8.296875 \r\nL 54.390625 8.296875 \r\nL 54.390625 0 \r\nL 12.40625 0 \r\nz\r\n\" id=\"DejaVuSans-49\"/>\r\n      </defs>\r\n      <g transform=\"translate(7.2 186.494978)scale(0.1 -0.1)\">\r\n       <use xlink:href=\"#DejaVuSans-48\"/>\r\n       <use x=\"63.623047\" xlink:href=\"#DejaVuSans-46\"/>\r\n       <use x=\"95.410156\" xlink:href=\"#DejaVuSans-48\"/>\r\n       <use x=\"159.033203\" xlink:href=\"#DejaVuSans-49\"/>\r\n      </g>\r\n     </g>\r\n    </g>\r\n    <g id=\"ytick_3\">\r\n     <g id=\"line2d_6\">\r\n      <g>\r\n       <use style=\"stroke:#000000;stroke-width:0.8;\" x=\"36.465625\" xlink:href=\"#md6ea0faccd\" y=\"139.771624\"/>\r\n      </g>\r\n     </g>\r\n     <g id=\"text_6\">\r\n      <!-- 0.02 -->\r\n      <defs>\r\n       <path d=\"M 19.1875 8.296875 \r\nL 53.609375 8.296875 \r\nL 53.609375 0 \r\nL 7.328125 0 \r\nL 7.328125 8.296875 \r\nQ 12.9375 14.109375 22.625 23.890625 \r\nQ 32.328125 33.6875 34.8125 36.53125 \r\nQ 39.546875 41.84375 41.421875 45.53125 \r\nQ 43.3125 49.21875 43.3125 52.78125 \r\nQ 43.3125 58.59375 39.234375 62.25 \r\nQ 35.15625 65.921875 28.609375 65.921875 \r\nQ 23.96875 65.921875 18.8125 64.3125 \r\nQ 13.671875 62.703125 7.8125 59.421875 \r\nL 7.8125 69.390625 \r\nQ 13.765625 71.78125 18.9375 73 \r\nQ 24.125 74.21875 28.421875 74.21875 \r\nQ 39.75 74.21875 46.484375 68.546875 \r\nQ 53.21875 62.890625 53.21875 53.421875 \r\nQ 53.21875 48.921875 51.53125 44.890625 \r\nQ 49.859375 40.875 45.40625 35.40625 \r\nQ 44.1875 33.984375 37.640625 27.21875 \r\nQ 31.109375 20.453125 19.1875 8.296875 \r\nz\r\n\" id=\"DejaVuSans-50\"/>\r\n      </defs>\r\n      <g transform=\"translate(7.2 143.570843)scale(0.1 -0.1)\">\r\n       <use xlink:href=\"#DejaVuSans-48\"/>\r\n       <use x=\"63.623047\" xlink:href=\"#DejaVuSans-46\"/>\r\n       <use x=\"95.410156\" xlink:href=\"#DejaVuSans-48\"/>\r\n       <use x=\"159.033203\" xlink:href=\"#DejaVuSans-50\"/>\r\n      </g>\r\n     </g>\r\n    </g>\r\n    <g id=\"ytick_4\">\r\n     <g id=\"line2d_7\">\r\n      <g>\r\n       <use style=\"stroke:#000000;stroke-width:0.8;\" x=\"36.465625\" xlink:href=\"#md6ea0faccd\" y=\"96.847489\"/>\r\n      </g>\r\n     </g>\r\n     <g id=\"text_7\">\r\n      <!-- 0.03 -->\r\n      <defs>\r\n       <path d=\"M 40.578125 39.3125 \r\nQ 47.65625 37.796875 51.625 33 \r\nQ 55.609375 28.21875 55.609375 21.1875 \r\nQ 55.609375 10.40625 48.1875 4.484375 \r\nQ 40.765625 -1.421875 27.09375 -1.421875 \r\nQ 22.515625 -1.421875 17.65625 -0.515625 \r\nQ 12.796875 0.390625 7.625 2.203125 \r\nL 7.625 11.71875 \r\nQ 11.71875 9.328125 16.59375 8.109375 \r\nQ 21.484375 6.890625 26.8125 6.890625 \r\nQ 36.078125 6.890625 40.9375 10.546875 \r\nQ 45.796875 14.203125 45.796875 21.1875 \r\nQ 45.796875 27.640625 41.28125 31.265625 \r\nQ 36.765625 34.90625 28.71875 34.90625 \r\nL 20.21875 34.90625 \r\nL 20.21875 43.015625 \r\nL 29.109375 43.015625 \r\nQ 36.375 43.015625 40.234375 45.921875 \r\nQ 44.09375 48.828125 44.09375 54.296875 \r\nQ 44.09375 59.90625 40.109375 62.90625 \r\nQ 36.140625 65.921875 28.71875 65.921875 \r\nQ 24.65625 65.921875 20.015625 65.03125 \r\nQ 15.375 64.15625 9.8125 62.3125 \r\nL 9.8125 71.09375 \r\nQ 15.4375 72.65625 20.34375 73.4375 \r\nQ 25.25 74.21875 29.59375 74.21875 \r\nQ 40.828125 74.21875 47.359375 69.109375 \r\nQ 53.90625 64.015625 53.90625 55.328125 \r\nQ 53.90625 49.265625 50.4375 45.09375 \r\nQ 46.96875 40.921875 40.578125 39.3125 \r\nz\r\n\" id=\"DejaVuSans-51\"/>\r\n      </defs>\r\n      <g transform=\"translate(7.2 100.646708)scale(0.1 -0.1)\">\r\n       <use xlink:href=\"#DejaVuSans-48\"/>\r\n       <use x=\"63.623047\" xlink:href=\"#DejaVuSans-46\"/>\r\n       <use x=\"95.410156\" xlink:href=\"#DejaVuSans-48\"/>\r\n       <use x=\"159.033203\" xlink:href=\"#DejaVuSans-51\"/>\r\n      </g>\r\n     </g>\r\n    </g>\r\n    <g id=\"ytick_5\">\r\n     <g id=\"line2d_8\">\r\n      <g>\r\n       <use style=\"stroke:#000000;stroke-width:0.8;\" x=\"36.465625\" xlink:href=\"#md6ea0faccd\" y=\"53.923354\"/>\r\n      </g>\r\n     </g>\r\n     <g id=\"text_8\">\r\n      <!-- 0.04 -->\r\n      <defs>\r\n       <path d=\"M 37.796875 64.3125 \r\nL 12.890625 25.390625 \r\nL 37.796875 25.390625 \r\nz\r\nM 35.203125 72.90625 \r\nL 47.609375 72.90625 \r\nL 47.609375 25.390625 \r\nL 58.015625 25.390625 \r\nL 58.015625 17.1875 \r\nL 47.609375 17.1875 \r\nL 47.609375 0 \r\nL 37.796875 0 \r\nL 37.796875 17.1875 \r\nL 4.890625 17.1875 \r\nL 4.890625 26.703125 \r\nz\r\n\" id=\"DejaVuSans-52\"/>\r\n      </defs>\r\n      <g transform=\"translate(7.2 57.722573)scale(0.1 -0.1)\">\r\n       <use xlink:href=\"#DejaVuSans-48\"/>\r\n       <use x=\"63.623047\" xlink:href=\"#DejaVuSans-46\"/>\r\n       <use x=\"95.410156\" xlink:href=\"#DejaVuSans-48\"/>\r\n       <use x=\"159.033203\" xlink:href=\"#DejaVuSans-52\"/>\r\n      </g>\r\n     </g>\r\n    </g>\r\n    <g id=\"ytick_6\">\r\n     <g id=\"line2d_9\">\r\n      <g>\r\n       <use style=\"stroke:#000000;stroke-width:0.8;\" x=\"36.465625\" xlink:href=\"#md6ea0faccd\" y=\"10.999219\"/>\r\n      </g>\r\n     </g>\r\n     <g id=\"text_9\">\r\n      <!-- 0.05 -->\r\n      <defs>\r\n       <path d=\"M 10.796875 72.90625 \r\nL 49.515625 72.90625 \r\nL 49.515625 64.59375 \r\nL 19.828125 64.59375 \r\nL 19.828125 46.734375 \r\nQ 21.96875 47.46875 24.109375 47.828125 \r\nQ 26.265625 48.1875 28.421875 48.1875 \r\nQ 40.625 48.1875 47.75 41.5 \r\nQ 54.890625 34.8125 54.890625 23.390625 \r\nQ 54.890625 11.625 47.5625 5.09375 \r\nQ 40.234375 -1.421875 26.90625 -1.421875 \r\nQ 22.3125 -1.421875 17.546875 -0.640625 \r\nQ 12.796875 0.140625 7.71875 1.703125 \r\nL 7.71875 11.625 \r\nQ 12.109375 9.234375 16.796875 8.0625 \r\nQ 21.484375 6.890625 26.703125 6.890625 \r\nQ 35.15625 6.890625 40.078125 11.328125 \r\nQ 45.015625 15.765625 45.015625 23.390625 \r\nQ 45.015625 31 40.078125 35.4375 \r\nQ 35.15625 39.890625 26.703125 39.890625 \r\nQ 22.75 39.890625 18.8125 39.015625 \r\nQ 14.890625 38.140625 10.796875 36.28125 \r\nz\r\n\" id=\"DejaVuSans-53\"/>\r\n      </defs>\r\n      <g transform=\"translate(7.2 14.798437)scale(0.1 -0.1)\">\r\n       <use xlink:href=\"#DejaVuSans-48\"/>\r\n       <use x=\"63.623047\" xlink:href=\"#DejaVuSans-46\"/>\r\n       <use x=\"95.410156\" xlink:href=\"#DejaVuSans-48\"/>\r\n       <use x=\"159.033203\" xlink:href=\"#DejaVuSans-53\"/>\r\n      </g>\r\n     </g>\r\n    </g>\r\n   </g>\r\n   <g id=\"patch_6\">\r\n    <path d=\"M 36.465625 225.619895 \r\nL 36.465625 8.179895 \r\n\" style=\"fill:none;stroke:#000000;stroke-linecap:square;stroke-linejoin:miter;stroke-width:0.8;\"/>\r\n   </g>\r\n   <g id=\"patch_7\">\r\n    <path d=\"M 371.265625 225.619895 \r\nL 371.265625 8.179895 \r\n\" style=\"fill:none;stroke:#000000;stroke-linecap:square;stroke-linejoin:miter;stroke-width:0.8;\"/>\r\n   </g>\r\n   <g id=\"patch_8\">\r\n    <path d=\"M 36.465625 225.619895 \r\nL 371.265625 225.619895 \r\n\" style=\"fill:none;stroke:#000000;stroke-linecap:square;stroke-linejoin:miter;stroke-width:0.8;\"/>\r\n   </g>\r\n   <g id=\"patch_9\">\r\n    <path d=\"M 36.465625 8.179895 \r\nL 371.265625 8.179895 \r\n\" style=\"fill:none;stroke:#000000;stroke-linecap:square;stroke-linejoin:miter;stroke-width:0.8;\"/>\r\n   </g>\r\n  </g>\r\n </g>\r\n <defs>\r\n  <clipPath id=\"pdee5746ebf\">\r\n   <rect height=\"217.44\" width=\"334.8\" x=\"36.465625\" y=\"8.179895\"/>\r\n  </clipPath>\r\n </defs>\r\n</svg>\r\n",
      "image/png": "[encoded data removed]"
     },
     "metadata": {
      "needs_background": "light"
     }
    }
   ],
   "source": [
    "suchwort = \" University \"\n",
    "\n",
    "word_count_genuine = (genuine_tweets.text.str.count(suchwort).sum()/2839362)*100\n",
    "print(str(word_count_genuine)+\"%\")\n",
    "word_count_traditional = (traditional_tweets.text.str.count(suchwort).sum()/145094)*100\n",
    "print(str(word_count_traditional)+\"%\")\n",
    "word_count_social = (social_tweets.text.str.count(suchwort).sum()/1610034)*100\n",
    "print(str(word_count_social)+\"%\")\n",
    "\n",
    "Numbers = pd.Series([word_count_genuine, word_count_traditional, word_count_social])\n",
    "Names = [\"Genuine Account\", \"Traditional Bot\", \"Social Bot\"]\n",
    "\n",
    "plt.bar(Names, Numbers)\n",
    "\n",
    "plt.show\n"
   ]
  },
  {
   "cell_type": "code",
   "execution_count": 60,
   "metadata": {
    "tags": []
   },
   "outputs": [
    {
     "output_type": "stream",
     "name": "stdout",
     "text": "[('Recruitment', 5), ('2010', 4), ('at', 3), ('3', 2), ('em', 2), ('0', 1)]\n"
    }
   ],
   "source": [
    "from collections import Counter\n",
    "\n",
    "# split() returns list of all the words in the string \n",
    "split_it = str(traditional_tweets.text).split() \n",
    "\n",
    "# Pass the split_it list to instance of Counter class. \n",
    "Counter = Counter(split_it) \n",
    "  \n",
    "# most_common() produces k frequently encountered \n",
    "# input values and their respective counts. \n",
    "most_occur = Counter.most_common(6) \n",
    "  \n",
    "print(most_occur) "
   ]
  },
  {
   "cell_type": "code",
   "execution_count": 77,
   "metadata": {},
   "outputs": [],
   "source": [
    "#install.packages(\"rtweet\")\n",
    "#library(rtweet)\n",
    "#import os\n",
    "#import tweepy as tw\n",
    "#import pandas as pd\n",
    "import tweepy\n"
   ]
  },
  {
   "cell_type": "code",
   "execution_count": 79,
   "metadata": {},
   "outputs": [],
   "source": [
    "import os\n",
    "import tweepy as tw\n",
    "import pandas as pd\n",
    "import csv\n",
    "from requests_oauthlib import OAuth1Session\n"
   ]
  },
  {
   "cell_type": "code",
   "execution_count": 81,
   "metadata": {},
   "outputs": [],
   "source": [
    "consumer_key= '2dqM1oxHL6ybNsSfMgdwGf2iO'\n",
    "consumer_secret= 'sYKbwIC24d9RKtZW5CXaxK8t8Q5fMvG1hkkYtV4At9egh9Fdd4'\n",
    "access_token= '1898213802-g9kTPGb720zaVjHeA73APcn8NwsDrPjCnh9qbf6'\n",
    "access_token_secret= '8lu2Rmhzmve4GtzVvWNXVM2nZCrzA1g3BTpsIj8HvTUOf'"
   ]
  },
  {
   "cell_type": "code",
   "execution_count": null,
   "metadata": {},
   "outputs": [],
   "source": [
    "auth = tw.OAuthHandler(consumer_key, consumer_secret)\n",
    "auth.set_access_token(access_token, access_token_secret)\n",
    "api = tw.API(auth, wait_on_rate_limit=True)\n"
   ]
  },
  {
   "cell_type": "code",
   "execution_count": 136,
   "metadata": {},
   "outputs": [],
   "source": [
    "import os\n",
    "import pandas as pd\n",
    "import matplotlib.pyplot as plt\n",
    "import seaborn as sns\n",
    "import itertools\n",
    "import collections\n",
    "\n",
    "import tweepy as tw\n",
    "import nltk\n",
    "from nltk.corpus import stopwords\n",
    "import re\n",
    "import networkx\n",
    "\n",
    "import warnings\n",
    "warnings.filterwarnings(\"ignore\")\n",
    "\n",
    "sns.set(font_scale=1.5)\n",
    "sns.set_style(\"whitegrid\")\n"
   ]
  },
  {
   "cell_type": "code",
   "execution_count": 137,
   "metadata": {},
   "outputs": [],
   "source": [
    "#search term ignoring retweets of the same base tweet\n",
    "search_words = \"black\" + \" -filter:retweets\"\n",
    "date_since = \"2020-06-21\""
   ]
  },
  {
   "cell_type": "code",
   "execution_count": 138,
   "metadata": {},
   "outputs": [
    {
     "output_type": "execute_result",
     "data": {
      "text/plain": "['@dfbarron @rolandsmartin And this is why no black person should play. Not only because of health reasons but the ec… https://t.co/ACY9a9ALDa',\n 'i really wish this hair color to have a comeback but i love his black hair too!! @BTS_twt https://t.co/MnsApPnDMd',\n 'Black father and son tackled by police and threatened with Tasers during charity bike ride https://t.co/hCHNyCXBgY',\n 'Feeling Motivated: @xatacysm is goals. This man is the first CEO / Art Director a Black owned Anime studio in Japan… https://t.co/nekeMV0P8k',\n '@DaveSmith3284 I’m genuinely sorry to hear that buddy. I hope you gave the black dog a good kicking and came out th… https://t.co/8r78RvLyEi',\n '@georgie010301 @Black_Zeus31 honestly tell me what I did wrong?',\n '@iraqschristians Defund the black lives movement... Domestic terrorist',\n \"@WrestlingGary If that's not the pot calling the kettle black\",\n \"@Blackshadie Lol...so he's neither white nor black?\",\n '@gabbywitha_yuh Also, 89 cops lost their lives. Far more than the black or white stats. What about their families? No sympathy for them?',\n '@wanderer_zigzag @TwitterMoments Sir, you are the ignorant one here. What happened is a perfect example of an issue… https://t.co/i9TOm4mmAh',\n \"@terrycrews Terry probably sees all of the people saying black power online and it's why he wrote this... Some peop… https://t.co/dvmCfmCiTW\",\n 'Right now, this what y’all need to do! Go buy a Custom wig, some nails, or preorder you some cute ass lashes!!! Sto… https://t.co/eycjkauPlN',\n '@stillgray @X22Report You cannot make this stuff up...A white man lecturing a black man about BLM......',\n '@terrycrews Black Lives Better???? Wow dude, you just don’t get it do you? https://t.co/iANf2v5fBD',\n '“I am a white, cisgender, heterosexual, old, white lady,” the Unitarian Universalist Church minister said, “and I d… https://t.co/ne1N3LCuBo',\n \"@khadeejah_black You're welcome\\nWhatever it is that you take please send me some 😭\",\n 'Wave bracelet surfer bracelet silver bracelet with black | Etsy https://t.co/qqx7fxqNVW https://t.co/3c0Q2TGXk8',\n '@chloexhallebey @LaveyMalone @rafacalomeno @ijoewright_86 @DisneyStudios @Beyonce Do you support #BLM ? I bet my li… https://t.co/vsEJD1ypjC',\n \"@TheRightMelissa @BloatedPOTUS @realDonaldTrump What's it like being a token black person for one of the most promi… https://t.co/l75dpjTPVP\"]"
     },
     "metadata": {},
     "execution_count": 138
    }
   ],
   "source": [
    "# Collect tweets\n",
    "tweets = tw.Cursor(api.search,\n",
    "              q=search_words,\n",
    "              lang=\"en\",\n",
    "              since=date_since).items(25)\n",
    "\n",
    "\n",
    "all_tweets = [tweet.text for tweet in tweets]\n",
    "\n",
    "all_tweets[:20]\n",
    "\n"
   ]
  },
  {
   "cell_type": "code",
   "execution_count": 141,
   "metadata": {
    "tags": []
   },
   "outputs": [],
   "source": [
    "\n",
    "# Iterate and print tweets\n",
    "for tweet in tweets:\n",
    "    print(tweet.text)"
   ]
  },
  {
   "cell_type": "code",
   "execution_count": 142,
   "metadata": {},
   "outputs": [
    {
     "output_type": "execute_result",
     "data": {
      "text/plain": "[]"
     },
     "metadata": {},
     "execution_count": 142
    }
   ],
   "source": [
    "users_locs = [[tweet.user.screen_name, tweet.user.location] for tweet in tweets]\n",
    "users_locs"
   ]
  },
  {
   "cell_type": "code",
   "execution_count": 143,
   "metadata": {
    "tags": []
   },
   "outputs": [
    {
     "output_type": "stream",
     "name": "stdout",
     "text": "Empty DataFrame\nColumns: [user, location]\nIndex: []\n"
    }
   ],
   "source": [
    "tweet_text = pd.DataFrame(data=users_locs, \n",
    "                    columns=['user', \"location\"])\n",
    "print(tweet_text)\n"
   ]
  },
  {
   "cell_type": "code",
   "execution_count": 144,
   "metadata": {
    "tags": []
   },
   "outputs": [
    {
     "output_type": "stream",
     "name": "stdout",
     "text": "getting tweets before 1165980349093957637\n...400 tweets downloaded so far\ngetting tweets before 1056518614927454207\n...600 tweets downloaded so far\ngetting tweets before 915921335993344000\n...800 tweets downloaded so far\ngetting tweets before 733184530622865407\n...1000 tweets downloaded so far\ngetting tweets before 436916954968764418\n...1041 tweets downloaded so far\ngetting tweets before 381131235247923200\n...1041 tweets downloaded so far\n"
    }
   ],
   "source": [
    "def get_all_tweets(screen_name):\n",
    "    #Twitter only allows access to a users most recent 3240 tweets with this method\n",
    "    \n",
    "    #authorize twitter, initialize tweepy\n",
    "    auth = tw.OAuthHandler(consumer_key, consumer_secret)\n",
    "    auth.set_access_token(access_token, access_token_secret)\n",
    "    api = tw.API(auth, wait_on_rate_limit=True)\n",
    "    \n",
    "    #initialize a list to hold all the tweepy Tweets\n",
    "    alltweets = []  \n",
    "    \n",
    "    #make initial request for most recent tweets (200 is the maximum allowed count)\n",
    "    new_tweets = api.user_timeline(screen_name = screen_name,count=200)\n",
    "    \n",
    "    #save most recent tweets\n",
    "    alltweets.extend(new_tweets)\n",
    "    \n",
    "    #save the id of the oldest tweet less one\n",
    "    oldest = alltweets[-1].id - 1\n",
    "    \n",
    "    #keep grabbing tweets until there are no tweets left to grab\n",
    "    while len(new_tweets) > 0:\n",
    "        print(f\"getting tweets before {oldest}\")\n",
    "        \n",
    "        #all subsiquent requests use the max_id param to prevent duplicates\n",
    "        new_tweets = api.user_timeline(screen_name = screen_name,count=200,max_id=oldest)\n",
    "        \n",
    "        #save most recent tweets\n",
    "        alltweets.extend(new_tweets)\n",
    "        \n",
    "        #update the id of the oldest tweet less one\n",
    "        oldest = alltweets[-1].id - 1\n",
    "        \n",
    "        print(f\"...{len(alltweets)} tweets downloaded so far\")\n",
    "    \n",
    "    #transform the tweepy tweets into a 2D array that will populate the csv \n",
    "    outtweets = [[tweet.id_str, tweet.created_at, tweet.text] for tweet in alltweets]\n",
    "    \n",
    "    #write the csv  \n",
    "    with open(f'new_{screen_name}_tweets.csv', 'w', encoding=\"utf-8\") as f:\n",
    "        writer = csv.writer(f)\n",
    "        writer.writerow([\"id\",\"created_at\",\"text\"])\n",
    "        writer.writerows(outtweets)\n",
    "    \n",
    "    pass\n",
    "\n",
    "\n",
    "if __name__ == '__main__':\n",
    "\t#pass in the username of the account you want to download\n",
    "\tget_all_tweets(\"tim_cook\")"
   ]
  },
  {
   "cell_type": "code",
   "execution_count": 145,
   "metadata": {},
   "outputs": [],
   "source": [
    "tim_tweets = pd.read_csv (r\"C:\\Users\\akasn\\Desktop\\Bothunting\\new_tim_cook_tweets.csv\")"
   ]
  },
  {
   "cell_type": "code",
   "execution_count": 146,
   "metadata": {
    "tags": []
   },
   "outputs": [
    {
     "output_type": "stream",
     "name": "stdout",
     "text": "<class 'pandas.core.frame.DataFrame'>\nRangeIndex: 1041 entries, 0 to 1040\nData columns (total 3 columns):\n #   Column      Non-Null Count  Dtype \n---  ------      --------------  ----- \n 0   id          1041 non-null   int64 \n 1   created_at  1041 non-null   object\n 2   text        1041 non-null   object\ndtypes: int64(1), object(2)\nmemory usage: 24.5+ KB\nNone\n"
    }
   ],
   "source": [
    "print(tim_tweets.info())"
   ]
  },
  {
   "cell_type": "code",
   "execution_count": 147,
   "metadata": {},
   "outputs": [],
   "source": [
    "#Creates a list of the last 2000 tweets by NatGeo \n",
    "\n",
    "natgeo_cursor = tweepy.Cursor(api.user_timeline, screen_name = 'NatGeo')\n",
    "natgeo_tweets = [(tweet.text, tweet.retweet_count, tweet.favorite_count) \\\n",
    "                 for tweet in natgeo_cursor.items(2000)]"
   ]
  },
  {
   "cell_type": "code",
   "execution_count": null,
   "metadata": {
    "tags": []
   },
   "outputs": [],
   "source": [
    "print(natgeo_tweets[2])"
   ]
  }
 ],
 "metadata": {
  "kernelspec": {
   "display_name": "Python 3",
   "language": "python",
   "name": "python3"
  },
  "language_info": {
   "codemirror_mode": {
    "name": "ipython",
    "version": 3
   },
   "file_extension": ".py",
   "mimetype": "text/x-python",
   "name": "python",
   "nbconvert_exporter": "python",
   "pygments_lexer": "ipython3",
   "version": "3.7.0-final"
  }
 },
 "nbformat": 4,
 "nbformat_minor": 2
}